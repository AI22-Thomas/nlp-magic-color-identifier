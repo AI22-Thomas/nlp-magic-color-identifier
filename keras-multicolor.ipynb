{
 "cells": [
  {
   "cell_type": "code",
   "execution_count": 1,
   "id": "77f2c88f",
   "metadata": {},
   "outputs": [],
   "source": [
    "import pandas as pd\n",
    "import tensorflow as tf\n",
    "from tensorflow import keras\n",
    "from sklearn.model_selection import train_test_split\n",
    "import numpy as np\n",
    "\n",
    "from keras.models import Model\n",
    "from keras.preprocessing.text import Tokenizer\n",
    "from keras.utils import pad_sequences\n",
    "from keras.layers import Input\n",
    "from keras.layers.core import Activation, Dropout, Dense\n",
    "from keras.layers import Flatten, LSTM, Embedding"
   ]
  },
  {
   "cell_type": "code",
   "execution_count": 2,
   "id": "9b0b50cf",
   "metadata": {
    "scrolled": true
   },
   "outputs": [
    {
     "data": {
      "text/html": [
       "<div>\n",
       "<style scoped>\n",
       "    .dataframe tbody tr th:only-of-type {\n",
       "        vertical-align: middle;\n",
       "    }\n",
       "\n",
       "    .dataframe tbody tr th {\n",
       "        vertical-align: top;\n",
       "    }\n",
       "\n",
       "    .dataframe thead th {\n",
       "        text-align: right;\n",
       "    }\n",
       "</style>\n",
       "<table border=\"1\" class=\"dataframe\">\n",
       "  <thead>\n",
       "    <tr style=\"text-align: right;\">\n",
       "      <th></th>\n",
       "      <th>name</th>\n",
       "      <th>rules_text</th>\n",
       "      <th>colors</th>\n",
       "      <th>color_identity</th>\n",
       "      <th>flavour_text</th>\n",
       "      <th>type_line</th>\n",
       "      <th>power</th>\n",
       "      <th>toughness</th>\n",
       "      <th>set</th>\n",
       "    </tr>\n",
       "  </thead>\n",
       "  <tbody>\n",
       "    <tr>\n",
       "      <th>0</th>\n",
       "      <td>Static Orb</td>\n",
       "      <td>As long as CARDNAME is untapped, players can't...</td>\n",
       "      <td>[0, 0, 0, 0, 0, 1]</td>\n",
       "      <td>[0, 0, 0, 0, 0, 1]</td>\n",
       "      <td>NaN</td>\n",
       "      <td>Artifact</td>\n",
       "      <td>None</td>\n",
       "      <td>None</td>\n",
       "      <td>7ed</td>\n",
       "    </tr>\n",
       "    <tr>\n",
       "      <th>1</th>\n",
       "      <td>Sensory Deprivation</td>\n",
       "      <td>Enchant creature\\nEnchanted creature gets &lt;-3/...</td>\n",
       "      <td>[0, 1, 0, 0, 0, 0]</td>\n",
       "      <td>[0, 1, 0, 0, 0, 0]</td>\n",
       "      <td>NaN</td>\n",
       "      <td>Enchantment — Aura</td>\n",
       "      <td>None</td>\n",
       "      <td>None</td>\n",
       "      <td>m14</td>\n",
       "    </tr>\n",
       "    <tr>\n",
       "      <th>2</th>\n",
       "      <td>Road of Return</td>\n",
       "      <td>Choose one —\\n• Return target permanent card f...</td>\n",
       "      <td>[0, 0, 0, 0, 1, 0]</td>\n",
       "      <td>[0, 0, 0, 0, 1, 0]</td>\n",
       "      <td>NaN</td>\n",
       "      <td>Sorcery</td>\n",
       "      <td>None</td>\n",
       "      <td>None</td>\n",
       "      <td>c19</td>\n",
       "    </tr>\n",
       "    <tr>\n",
       "      <th>3</th>\n",
       "      <td>Storm Crow</td>\n",
       "      <td>Flying (This creature can't be blocked except ...</td>\n",
       "      <td>[0, 1, 0, 0, 0, 0]</td>\n",
       "      <td>[0, 1, 0, 0, 0, 0]</td>\n",
       "      <td>NaN</td>\n",
       "      <td>Creature — Bird</td>\n",
       "      <td>1</td>\n",
       "      <td>2</td>\n",
       "      <td>9ed</td>\n",
       "    </tr>\n",
       "    <tr>\n",
       "      <th>4</th>\n",
       "      <td>Walking Sponge</td>\n",
       "      <td>tap: Target creature loses your choice of fly...</td>\n",
       "      <td>[0, 1, 0, 0, 0, 0]</td>\n",
       "      <td>[0, 1, 0, 0, 0, 0]</td>\n",
       "      <td>NaN</td>\n",
       "      <td>Creature — Sponge</td>\n",
       "      <td>1</td>\n",
       "      <td>1</td>\n",
       "      <td>ulg</td>\n",
       "    </tr>\n",
       "    <tr>\n",
       "      <th>...</th>\n",
       "      <td>...</td>\n",
       "      <td>...</td>\n",
       "      <td>...</td>\n",
       "      <td>...</td>\n",
       "      <td>...</td>\n",
       "      <td>...</td>\n",
       "      <td>...</td>\n",
       "      <td>...</td>\n",
       "      <td>...</td>\n",
       "    </tr>\n",
       "    <tr>\n",
       "      <th>25132</th>\n",
       "      <td>Devoted Hero</td>\n",
       "      <td></td>\n",
       "      <td>[1, 0, 0, 0, 0, 0]</td>\n",
       "      <td>[1, 0, 0, 0, 0, 0]</td>\n",
       "      <td>NaN</td>\n",
       "      <td>Creature — Elf Soldier</td>\n",
       "      <td>1</td>\n",
       "      <td>2</td>\n",
       "      <td>s99</td>\n",
       "    </tr>\n",
       "    <tr>\n",
       "      <th>25133</th>\n",
       "      <td>Without Weakness</td>\n",
       "      <td>Target creature you control gains indestructib...</td>\n",
       "      <td>[0, 0, 1, 0, 0, 0]</td>\n",
       "      <td>[0, 0, 1, 0, 0, 0]</td>\n",
       "      <td>NaN</td>\n",
       "      <td>Instant</td>\n",
       "      <td>None</td>\n",
       "      <td>None</td>\n",
       "      <td>hou</td>\n",
       "    </tr>\n",
       "    <tr>\n",
       "      <th>25134</th>\n",
       "      <td>Firesong and Sunspeaker</td>\n",
       "      <td>Red instant and sorcery spells you control hav...</td>\n",
       "      <td>[1, 0, 0, 1, 0, 0]</td>\n",
       "      <td>[1, 0, 0, 1, 0, 0]</td>\n",
       "      <td>NaN</td>\n",
       "      <td>Legendary Creature — Minotaur Cleric</td>\n",
       "      <td>4</td>\n",
       "      <td>6</td>\n",
       "      <td>2x2</td>\n",
       "    </tr>\n",
       "    <tr>\n",
       "      <th>25135</th>\n",
       "      <td>Samut, the Tested</td>\n",
       "      <td>+1: Up to one target creature gains double str...</td>\n",
       "      <td>[0, 0, 0, 1, 1, 0]</td>\n",
       "      <td>[0, 0, 0, 1, 1, 0]</td>\n",
       "      <td>NaN</td>\n",
       "      <td>Legendary Planeswalker — Samut</td>\n",
       "      <td>None</td>\n",
       "      <td>None</td>\n",
       "      <td>hou</td>\n",
       "    </tr>\n",
       "    <tr>\n",
       "      <th>25136</th>\n",
       "      <td>Sinew Sliver</td>\n",
       "      <td>All Sliver creatures get &lt;+1/+1&gt;.</td>\n",
       "      <td>[1, 0, 0, 0, 0, 0]</td>\n",
       "      <td>[1, 0, 0, 0, 0, 0]</td>\n",
       "      <td>NaN</td>\n",
       "      <td>Creature — Sliver</td>\n",
       "      <td>1</td>\n",
       "      <td>1</td>\n",
       "      <td>tsr</td>\n",
       "    </tr>\n",
       "  </tbody>\n",
       "</table>\n",
       "<p>25137 rows × 9 columns</p>\n",
       "</div>"
      ],
      "text/plain": [
       "                          name   \n",
       "0                   Static Orb  \\\n",
       "1          Sensory Deprivation   \n",
       "2               Road of Return   \n",
       "3                   Storm Crow   \n",
       "4               Walking Sponge   \n",
       "...                        ...   \n",
       "25132             Devoted Hero   \n",
       "25133         Without Weakness   \n",
       "25134  Firesong and Sunspeaker   \n",
       "25135        Samut, the Tested   \n",
       "25136             Sinew Sliver   \n",
       "\n",
       "                                              rules_text              colors   \n",
       "0      As long as CARDNAME is untapped, players can't...  [0, 0, 0, 0, 0, 1]  \\\n",
       "1      Enchant creature\\nEnchanted creature gets <-3/...  [0, 1, 0, 0, 0, 0]   \n",
       "2      Choose one —\\n• Return target permanent card f...  [0, 0, 0, 0, 1, 0]   \n",
       "3      Flying (This creature can't be blocked except ...  [0, 1, 0, 0, 0, 0]   \n",
       "4       tap: Target creature loses your choice of fly...  [0, 1, 0, 0, 0, 0]   \n",
       "...                                                  ...                 ...   \n",
       "25132                                                     [1, 0, 0, 0, 0, 0]   \n",
       "25133  Target creature you control gains indestructib...  [0, 0, 1, 0, 0, 0]   \n",
       "25134  Red instant and sorcery spells you control hav...  [1, 0, 0, 1, 0, 0]   \n",
       "25135  +1: Up to one target creature gains double str...  [0, 0, 0, 1, 1, 0]   \n",
       "25136                  All Sliver creatures get <+1/+1>.  [1, 0, 0, 0, 0, 0]   \n",
       "\n",
       "           color_identity  flavour_text                             type_line   \n",
       "0      [0, 0, 0, 0, 0, 1]           NaN                              Artifact  \\\n",
       "1      [0, 1, 0, 0, 0, 0]           NaN                    Enchantment — Aura   \n",
       "2      [0, 0, 0, 0, 1, 0]           NaN                               Sorcery   \n",
       "3      [0, 1, 0, 0, 0, 0]           NaN                       Creature — Bird   \n",
       "4      [0, 1, 0, 0, 0, 0]           NaN                     Creature — Sponge   \n",
       "...                   ...           ...                                   ...   \n",
       "25132  [1, 0, 0, 0, 0, 0]           NaN                Creature — Elf Soldier   \n",
       "25133  [0, 0, 1, 0, 0, 0]           NaN                               Instant   \n",
       "25134  [1, 0, 0, 1, 0, 0]           NaN  Legendary Creature — Minotaur Cleric   \n",
       "25135  [0, 0, 0, 1, 1, 0]           NaN        Legendary Planeswalker — Samut   \n",
       "25136  [1, 0, 0, 0, 0, 0]           NaN                     Creature — Sliver   \n",
       "\n",
       "      power toughness  set  \n",
       "0      None      None  7ed  \n",
       "1      None      None  m14  \n",
       "2      None      None  c19  \n",
       "3         1         2  9ed  \n",
       "4         1         1  ulg  \n",
       "...     ...       ...  ...  \n",
       "25132     1         2  s99  \n",
       "25133  None      None  hou  \n",
       "25134     4         6  2x2  \n",
       "25135  None      None  hou  \n",
       "25136     1         1  tsr  \n",
       "\n",
       "[25137 rows x 9 columns]"
      ]
     },
     "execution_count": 2,
     "metadata": {},
     "output_type": "execute_result"
    }
   ],
   "source": [
    "cards = pd.read_json(\"data/cards.json\")\n",
    "cards"
   ]
  },
  {
   "cell_type": "code",
   "execution_count": 3,
   "id": "e7dc2076",
   "metadata": {},
   "outputs": [],
   "source": [
    "import spacy\n",
    "\n",
    "en = spacy.load('en_core_web_sm')\n",
    "stopwords = en.Defaults.stop_words\n",
    "\n",
    "def text_preprocess(input_text):\n",
    "    # remove all stop words\n",
    "    input_text = ' '.join([word for word in input_text.split() if word not in stopwords])\n",
    "\n",
    "    input_text = ''.join([char for char in input_text if char.isalnum() or char == '/' or char == ' '])\n",
    "\n",
    "    return input_text\n",
    "\n",
    "X = []\n",
    "Y = []\n",
    "\n",
    "# input_text = type_line + rules_text (if not None) + power / toughness (if not None)\n",
    "for index, card in cards.iterrows():\n",
    "\n",
    "    input_text = card['type_line']\n",
    "    if card['rules_text'] is not None:\n",
    "        input_text += '\\n' + card['rules_text']\n",
    "    if card['power'] is not None:\n",
    "        input_text += '\\n' + card['power'] + '/' + card['toughness']\n",
    "\n",
    "    input_text = text_preprocess(input_text)\n",
    "    \n",
    "    X.append(input_text)\n",
    "    Y.append(card[\"color_identity\"])"
   ]
  },
  {
   "cell_type": "code",
   "execution_count": 4,
   "id": "b9a1268b",
   "metadata": {},
   "outputs": [],
   "source": [
    "x_train, x_test, y_train, y_test = train_test_split(X, Y, test_size=0.10)"
   ]
  },
  {
   "cell_type": "code",
   "execution_count": 5,
   "id": "fb4205dd",
   "metadata": {},
   "outputs": [],
   "source": [
    "nr_of_targets= 5\n",
    "\n",
    "# Remove colorless from array and convert from int to float32\n",
    "y_train = [np.asarray(y)[0:nr_of_targets].astype('float32').ravel() for y in y_train] \n",
    "y_test = [np.asarray(y)[0:nr_of_targets].astype('float32').ravel() for y in y_test]\n",
    "\n",
    "# Create tensors for tensorflow\n",
    "y_train = tf.convert_to_tensor(y_train)\n",
    "y_test = tf.convert_to_tensor(y_test)"
   ]
  },
  {
   "cell_type": "code",
   "execution_count": 6,
   "id": "2caca919",
   "metadata": {},
   "outputs": [],
   "source": [
    "# Tokenize text\n",
    "tokenizer = Tokenizer(num_words=5000)\n",
    "tokenizer.fit_on_texts(x_train)\n",
    "\n",
    "x_train = tokenizer.texts_to_sequences(x_train)\n",
    "x_test = tokenizer.texts_to_sequences(x_test)"
   ]
  },
  {
   "cell_type": "code",
   "execution_count": 7,
   "id": "01e9e8ef",
   "metadata": {},
   "outputs": [],
   "source": [
    "vocab_size = len(tokenizer.word_index) + 2\n",
    "maxlen = 50\n",
    "\n",
    "# Pad vectors with short text and shorten vectors with long text\n",
    "x_train = pad_sequences(x_train, maxlen=maxlen)\n",
    "x_test = pad_sequences(x_test, maxlen=maxlen)"
   ]
  },
  {
   "cell_type": "code",
   "execution_count": 8,
   "id": "ebfee391",
   "metadata": {},
   "outputs": [
    {
     "name": "stdout",
     "output_type": "stream",
     "text": [
      "Found 400000 word vectors.\n",
      "Converted 2398 words (583 misses)\n"
     ]
    }
   ],
   "source": [
    "from numpy import array\n",
    "from numpy import asarray\n",
    "from numpy import zeros\n",
    "\n",
    "# https://keras.io/examples/nlp/pretrained_word_embeddings/\n",
    "# using pretrained word embeddings from https://nlp.stanford.edu/projects/glove/\n",
    "embeddings_index = {}\n",
    "with open('data/glove.6B.100d.txt', encoding=\"utf8\") as f:\n",
    "    for line in f:\n",
    "        word, coefs = line.split(maxsplit=1)\n",
    "        coefs = np.fromstring(coefs, \"f\", sep=\" \")\n",
    "        embeddings_index[word] = coefs\n",
    "\n",
    "print(\"Found %s word vectors.\" % len(embeddings_index))\n",
    "\n",
    "hits = 0\n",
    "misses = 0\n",
    "\n",
    "# Prepare embedding matrix\n",
    "embedding_matrix = np.zeros((vocab_size, 100))\n",
    "for word, i in tokenizer.word_index.items():\n",
    "    embedding_vector = embeddings_index.get(word)\n",
    "    if embedding_vector is not None:\n",
    "        # Words not found in embedding index will be all-zeros.\n",
    "        # This includes the representation for \"padding\" and \"OOV\"\n",
    "        embedding_matrix[i] = embedding_vector\n",
    "        hits += 1\n",
    "    else:\n",
    "        misses += 1\n",
    "print(\"Converted %d words (%d misses)\" % (hits, misses))"
   ]
  },
  {
   "cell_type": "code",
   "execution_count": 9,
   "id": "53c6acb1",
   "metadata": {},
   "outputs": [],
   "source": [
    "# Create model\n",
    "deep_inputs = Input(shape=(maxlen,))\n",
    "embedding_layer = Embedding(vocab_size, 100, weights=[embedding_matrix], trainable=False)(deep_inputs)\n",
    "LSTM_Layer_1 = LSTM(128)(embedding_layer)\n",
    "dense_layer_1 = Dense(nr_of_targets, activation='sigmoid')(LSTM_Layer_1)\n",
    "model = Model(inputs=deep_inputs, outputs=dense_layer_1)\n",
    "\n",
    "model.compile(loss='binary_crossentropy', optimizer='adam', metrics=['acc'])"
   ]
  },
  {
   "cell_type": "code",
   "execution_count": 10,
   "id": "26115c21",
   "metadata": {},
   "outputs": [
    {
     "name": "stdout",
     "output_type": "stream",
     "text": [
      "Epoch 1/20\n",
      "160/160 [==============================] - 7s 20ms/step - loss: 0.4764 - acc: 0.3791 - val_loss: 0.4374 - val_acc: 0.4441\n",
      "Epoch 2/20\n",
      "160/160 [==============================] - 2s 15ms/step - loss: 0.4084 - acc: 0.4960 - val_loss: 0.3974 - val_acc: 0.5197\n",
      "Epoch 3/20\n",
      "160/160 [==============================] - 2s 15ms/step - loss: 0.3739 - acc: 0.5444 - val_loss: 0.3619 - val_acc: 0.5581\n",
      "Epoch 4/20\n",
      "160/160 [==============================] - 2s 15ms/step - loss: 0.3482 - acc: 0.5790 - val_loss: 0.3421 - val_acc: 0.5727\n",
      "Epoch 5/20\n",
      "160/160 [==============================] - 2s 16ms/step - loss: 0.3284 - acc: 0.6025 - val_loss: 0.3395 - val_acc: 0.5683\n",
      "Epoch 6/20\n",
      "160/160 [==============================] - 2s 15ms/step - loss: 0.3159 - acc: 0.6082 - val_loss: 0.3213 - val_acc: 0.6125\n",
      "Epoch 7/20\n",
      "160/160 [==============================] - 2s 15ms/step - loss: 0.3026 - acc: 0.6266 - val_loss: 0.3164 - val_acc: 0.6151\n",
      "Epoch 8/20\n",
      "160/160 [==============================] - 2s 15ms/step - loss: 0.2904 - acc: 0.6391 - val_loss: 0.3121 - val_acc: 0.6186\n",
      "Epoch 9/20\n",
      "160/160 [==============================] - 3s 18ms/step - loss: 0.2806 - acc: 0.6480 - val_loss: 0.3160 - val_acc: 0.6116\n",
      "Epoch 10/20\n",
      "160/160 [==============================] - 2s 15ms/step - loss: 0.2723 - acc: 0.6582 - val_loss: 0.3042 - val_acc: 0.6160\n",
      "Epoch 11/20\n",
      "160/160 [==============================] - 2s 15ms/step - loss: 0.2624 - acc: 0.6663 - val_loss: 0.3043 - val_acc: 0.6200\n",
      "Epoch 12/20\n",
      "160/160 [==============================] - 2s 15ms/step - loss: 0.2539 - acc: 0.6734 - val_loss: 0.2966 - val_acc: 0.6430\n",
      "Epoch 13/20\n",
      "160/160 [==============================] - 3s 18ms/step - loss: 0.2453 - acc: 0.6828 - val_loss: 0.3009 - val_acc: 0.6213\n",
      "Epoch 14/20\n",
      "160/160 [==============================] - 3s 18ms/step - loss: 0.2407 - acc: 0.6924 - val_loss: 0.2985 - val_acc: 0.6262\n",
      "Epoch 15/20\n",
      "160/160 [==============================] - 3s 17ms/step - loss: 0.2275 - acc: 0.7005 - val_loss: 0.3023 - val_acc: 0.6341\n",
      "Epoch 16/20\n",
      "160/160 [==============================] - 3s 16ms/step - loss: 0.2234 - acc: 0.7048 - val_loss: 0.2973 - val_acc: 0.6297\n",
      "Epoch 17/20\n",
      "160/160 [==============================] - 3s 16ms/step - loss: 0.2109 - acc: 0.7190 - val_loss: 0.3008 - val_acc: 0.6496\n",
      "Epoch 18/20\n",
      "160/160 [==============================] - 3s 17ms/step - loss: 0.2057 - acc: 0.7216 - val_loss: 0.3038 - val_acc: 0.6531\n",
      "Epoch 19/20\n",
      "160/160 [==============================] - 3s 16ms/step - loss: 0.1973 - acc: 0.7324 - val_loss: 0.3091 - val_acc: 0.6306\n",
      "Epoch 20/20\n",
      "160/160 [==============================] - 3s 16ms/step - loss: 0.1901 - acc: 0.7372 - val_loss: 0.3124 - val_acc: 0.6354\n"
     ]
    }
   ],
   "source": [
    "# Fit our model\n",
    "# Takes ~1 minute\n",
    "history = model.fit(x_train, y_train, batch_size=128, epochs=20, verbose=1, validation_split=0.1)"
   ]
  },
  {
   "cell_type": "code",
   "execution_count": 11,
   "id": "0ddaa5b6",
   "metadata": {},
   "outputs": [
    {
     "name": "stdout",
     "output_type": "stream",
     "text": [
      "79/79 [==============================] - 1s 10ms/step - loss: 0.3105 - acc: 0.6456\n",
      "Test Score: 0.3104728162288666\n",
      "Test Accuracy: 0.6455847024917603\n"
     ]
    }
   ],
   "source": [
    "# Model scores\n",
    "score = model.evaluate(x_test, y_test, verbose=1)\n",
    "print(\"Test Score:\", score[0])\n",
    "print(\"Test Accuracy:\", score[1])"
   ]
  },
  {
   "cell_type": "code",
   "execution_count": 12,
   "id": "168fda38",
   "metadata": {
    "scrolled": true
   },
   "outputs": [
    {
     "name": "stdout",
     "output_type": "stream",
     "text": [
      "79/79 [==============================] - 2s 8ms/step\n"
     ]
    }
   ],
   "source": [
    "# Get predictions for our test set\n",
    "predictions = model.predict(x_test)"
   ]
  },
  {
   "cell_type": "code",
   "execution_count": 13,
   "id": "392c247a",
   "metadata": {},
   "outputs": [
    {
     "name": "stdout",
     "output_type": "stream",
     "text": [
      "              precision    recall  f1-score   support\n",
      "\n",
      "           w       0.72      0.62      0.67       546\n",
      "           u       0.72      0.69      0.71       487\n",
      "           b       0.76      0.72      0.74       530\n",
      "           r       0.73      0.73      0.73       540\n",
      "           g       0.73      0.63      0.68       497\n",
      "\n",
      "   micro avg       0.73      0.68      0.70      2600\n",
      "   macro avg       0.73      0.68      0.70      2600\n",
      "weighted avg       0.73      0.68      0.70      2600\n",
      " samples avg       0.62      0.63      0.61      2600\n",
      "\n"
     ]
    }
   ],
   "source": [
    "from sklearn.metrics import classification_report\n",
    "\n",
    "LABELS = [\"w\", \"u\", \"b\", \"r\", \"g\"]\n",
    "\n",
    "y_pred = predictions\n",
    "y_true = y_test.numpy()\n",
    "\n",
    "upper, lower = 1, 0\n",
    "\n",
    "y_pred = np.where(y_pred > 0.5, upper, lower)\n",
    "\n",
    "print(classification_report(\n",
    "  y_true, \n",
    "  y_pred, \n",
    "  target_names=LABELS, \n",
    "  zero_division=0\n",
    "))"
   ]
  },
  {
   "cell_type": "code",
   "execution_count": 14,
   "id": "53f258c4",
   "metadata": {},
   "outputs": [
    {
     "data": {
      "text/plain": [
       "0.5998408910103421"
      ]
     },
     "execution_count": 14,
     "metadata": {},
     "output_type": "execute_result"
    }
   ],
   "source": [
    "# Calculate Accuracy with scikit-learn\n",
    "# From documentation: the set of labels predicted for a sample must exactly match the corresponding set of labels in y_true\n",
    "from sklearn.metrics import accuracy_score\n",
    "accuracy_score(y_true, y_pred)"
   ]
  },
  {
   "cell_type": "code",
   "execution_count": 15,
   "id": "c58c92c0",
   "metadata": {},
   "outputs": [
    {
     "name": "stdout",
     "output_type": "stream",
     "text": [
      "[[[1833  135]\n",
      "  [ 206  340]]\n",
      "\n",
      " [[1897  130]\n",
      "  [ 149  338]]\n",
      "\n",
      " [[1863  121]\n",
      "  [ 148  382]]\n",
      "\n",
      " [[1828  146]\n",
      "  [ 145  395]]\n",
      "\n",
      " [[1902  115]\n",
      "  [ 185  312]]]\n"
     ]
    }
   ],
   "source": [
    "from sklearn.metrics import multilabel_confusion_matrix\n",
    "confusion_matrix = multilabel_confusion_matrix(y_true, y_pred)\n",
    "print(confusion_matrix)"
   ]
  },
  {
   "cell_type": "code",
   "execution_count": 16,
   "id": "e001ff2b",
   "metadata": {},
   "outputs": [
    {
     "data": {
      "image/png": "[encoded data removed]",
      "text/plain": [
       "<Figure size 2500x1500 with 6 Axes>"
      ]
     },
     "metadata": {},
     "output_type": "display_data"
    }
   ],
   "source": [
    "from sklearn.metrics import ConfusionMatrixDisplay, confusion_matrix\n",
    "import matplotlib.pyplot as plt\n",
    "\n",
    "classes=['white', 'blue', 'black', 'red', 'green']\n",
    "\n",
    "fig = plt.figure(figsize=(25, 15))\n",
    "\n",
    "axes = []\n",
    "for i in range(5):\n",
    "    disp = ConfusionMatrixDisplay(confusion_matrix(y_true[:, i],\n",
    "                                                   y_pred[:, i]),\n",
    "                                  display_labels=[0, 1])\n",
    "    ax= fig.add_subplot(2,3,i + 1)\n",
    "    axes.append(ax)\n",
    "    disp.plot(ax=ax, values_format='.4g')\n",
    "    disp.ax_.set_title(classes[i])    \n",
    "    disp.im_.colorbar.remove()\n",
    "    \n",
    "\n",
    "plt.subplots_adjust(wspace=0.10, hspace=0.1)\n",
    "fig.colorbar(disp.im_, ax=axes)\n",
    "plt.show()"
   ]
  },
  {
   "cell_type": "code",
   "execution_count": 17,
   "id": "b88995d5",
   "metadata": {},
   "outputs": [
    {
     "name": "stdout",
     "output_type": "stream",
     "text": [
      "Colors:           [   w   ,    u   ,    b   ,    r   ,    g   ]\n",
      "Actual colors:    ['0.000', '0.000', '0.000', '1.000', '0.000']\n",
      "Predicted colors: ['0.009', '0.012', '0.004', '0.003', '0.003']\n",
      "\n",
      "Colors:           [   w   ,    u   ,    b   ,    r   ,    g   ]\n",
      "Actual colors:    ['0.000', '0.000', '0.000', '1.000', '0.000']\n",
      "Predicted colors: ['0.787', '0.108', '0.047', '0.006', '0.110']\n",
      "\n",
      "Colors:           [   w   ,    u   ,    b   ,    r   ,    g   ]\n",
      "Actual colors:    ['0.000', '1.000', '0.000', '0.000', '0.000']\n",
      "Predicted colors: ['0.140', '0.810', '0.074', '0.049', '0.067']\n",
      "\n",
      "Colors:           [   w   ,    u   ,    b   ,    r   ,    g   ]\n",
      "Actual colors:    ['0.000', '0.000', '0.000', '0.000', '1.000']\n",
      "Predicted colors: ['0.069', '0.001', '0.014', '0.016', '0.903']\n",
      "\n",
      "Colors:           [   w   ,    u   ,    b   ,    r   ,    g   ]\n",
      "Actual colors:    ['0.000', '0.000', '1.000', '0.000', '0.000']\n",
      "Predicted colors: ['0.017', '0.007', '0.968', '0.000', '0.007']\n",
      "\n",
      "Colors:           [   w   ,    u   ,    b   ,    r   ,    g   ]\n",
      "Actual colors:    ['0.000', '0.000', '1.000', '0.000', '0.000']\n",
      "Predicted colors: ['0.021', '0.080', '0.079', '0.006', '0.775']\n",
      "\n",
      "Colors:           [   w   ,    u   ,    b   ,    r   ,    g   ]\n",
      "Actual colors:    ['1.000', '0.000', '0.000', '0.000', '0.000']\n",
      "Predicted colors: ['0.856', '0.011', '0.076', '0.423', '0.004']\n",
      "\n",
      "Colors:           [   w   ,    u   ,    b   ,    r   ,    g   ]\n",
      "Actual colors:    ['0.000', '0.000', '1.000', '0.000', '0.000']\n",
      "Predicted colors: ['0.004', '0.123', '0.975', '0.002', '0.006']\n",
      "\n",
      "Colors:           [   w   ,    u   ,    b   ,    r   ,    g   ]\n",
      "Actual colors:    ['0.000', '1.000', '0.000', '1.000', '0.000']\n",
      "Predicted colors: ['0.004', '0.728', '0.014', '0.977', '0.007']\n",
      "\n",
      "Colors:           [   w   ,    u   ,    b   ,    r   ,    g   ]\n",
      "Actual colors:    ['0.000', '1.000', '0.000', '0.000', '0.000']\n",
      "Predicted colors: ['0.013', '0.998', '0.006', '0.001', '0.001']\n",
      "\n"
     ]
    }
   ],
   "source": [
    "# Show some prediction samples\n",
    "import random\n",
    "\n",
    "for i in random.sample(range(len(predictions)), 10):\n",
    "    formatted_y_test = [\"%.3f\"%item for item in y_test[i]]\n",
    "    formatted_predictions = [\"%.3f\"%item for item in predictions[i]]\n",
    "    \n",
    "    print(\"Colors:           [   w   ,    u   ,    b   ,    r   ,    g   ]\")\n",
    "    print(\"Actual colors:   \", formatted_y_test)\n",
    "    print(\"Predicted colors:\", formatted_predictions)\n",
    "    print()"
   ]
  },
  {
   "cell_type": "code",
   "execution_count": null,
   "id": "254b9375",
   "metadata": {},
   "outputs": [],
   "source": []
  }
 ],
 "metadata": {
  "kernelspec": {
   "display_name": "Python 3 (ipykernel)",
   "language": "python",
   "name": "python3"
  },
  "language_info": {
   "codemirror_mode": {
    "name": "ipython",
    "version": 3
   },
   "file_extension": ".py",
   "mimetype": "text/x-python",
   "name": "python",
   "nbconvert_exporter": "python",
   "pygments_lexer": "ipython3",
   "version": "3.9.16"
  }
 },
 "nbformat": 4,
 "nbformat_minor": 5
}
