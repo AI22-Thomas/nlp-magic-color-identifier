{
 "cells": [
  {
   "cell_type": "code",
   "execution_count": 1,
   "id": "77f2c88f",
   "metadata": {},
   "outputs": [],
   "source": [
    "import pandas as pd\n",
    "import keras_nlp\n",
    "import tensorflow as tf\n",
    "from tensorflow import keras\n",
    "from sklearn.model_selection import train_test_split\n",
    "import numpy as np\n",
    "import sklearn\n",
    "\n",
    "from keras.models import Model\n",
    "from keras.preprocessing.text import Tokenizer\n",
    "from keras.utils import pad_sequences\n",
    "from keras.layers import Input\n",
    "from keras.layers.core import Activation, Dropout, Dense\n",
    "from keras.layers import Flatten, LSTM, Embedding"
   ]
  },
  {
   "cell_type": "code",
   "execution_count": 2,
   "id": "9b0b50cf",
   "metadata": {
    "scrolled": true
   },
   "outputs": [
    {
     "data": {
      "text/html": [
       "<div>\n",
       "<style scoped>\n",
       "    .dataframe tbody tr th:only-of-type {\n",
       "        vertical-align: middle;\n",
       "    }\n",
       "\n",
       "    .dataframe tbody tr th {\n",
       "        vertical-align: top;\n",
       "    }\n",
       "\n",
       "    .dataframe thead th {\n",
       "        text-align: right;\n",
       "    }\n",
       "</style>\n",
       "<table border=\"1\" class=\"dataframe\">\n",
       "  <thead>\n",
       "    <tr style=\"text-align: right;\">\n",
       "      <th></th>\n",
       "      <th>name</th>\n",
       "      <th>rules_text</th>\n",
       "      <th>colors</th>\n",
       "      <th>color_identity</th>\n",
       "      <th>flavour_text</th>\n",
       "      <th>type_line</th>\n",
       "      <th>power</th>\n",
       "      <th>toughness</th>\n",
       "      <th>set</th>\n",
       "    </tr>\n",
       "  </thead>\n",
       "  <tbody>\n",
       "    <tr>\n",
       "      <th>0</th>\n",
       "      <td>Static Orb</td>\n",
       "      <td>As long as CARDNAME is untapped, players can't...</td>\n",
       "      <td>[0, 0, 0, 0, 0, 1]</td>\n",
       "      <td>[0, 0, 0, 0, 0, 1]</td>\n",
       "      <td>NaN</td>\n",
       "      <td>Artifact</td>\n",
       "      <td>None</td>\n",
       "      <td>None</td>\n",
       "      <td>7ed</td>\n",
       "    </tr>\n",
       "    <tr>\n",
       "      <th>1</th>\n",
       "      <td>Sensory Deprivation</td>\n",
       "      <td>Enchant creature\\nEnchanted creature gets -3/-0.</td>\n",
       "      <td>[0, 1, 0, 0, 0, 0]</td>\n",
       "      <td>[0, 1, 0, 0, 0, 0]</td>\n",
       "      <td>NaN</td>\n",
       "      <td>Enchantment — Aura</td>\n",
       "      <td>None</td>\n",
       "      <td>None</td>\n",
       "      <td>m14</td>\n",
       "    </tr>\n",
       "    <tr>\n",
       "      <th>2</th>\n",
       "      <td>Road of Return</td>\n",
       "      <td>Choose one —\\n• Return target permanent card f...</td>\n",
       "      <td>[0, 0, 0, 0, 1, 0]</td>\n",
       "      <td>[0, 0, 0, 0, 1, 0]</td>\n",
       "      <td>NaN</td>\n",
       "      <td>Sorcery</td>\n",
       "      <td>None</td>\n",
       "      <td>None</td>\n",
       "      <td>c19</td>\n",
       "    </tr>\n",
       "    <tr>\n",
       "      <th>3</th>\n",
       "      <td>Storm Crow</td>\n",
       "      <td>Flying (This creature can't be blocked except ...</td>\n",
       "      <td>[0, 1, 0, 0, 0, 0]</td>\n",
       "      <td>[0, 1, 0, 0, 0, 0]</td>\n",
       "      <td>NaN</td>\n",
       "      <td>Creature — Bird</td>\n",
       "      <td>1</td>\n",
       "      <td>2</td>\n",
       "      <td>9ed</td>\n",
       "    </tr>\n",
       "    <tr>\n",
       "      <th>4</th>\n",
       "      <td>Walking Sponge</td>\n",
       "      <td>tap: Target creature loses your choice of fly...</td>\n",
       "      <td>[0, 1, 0, 0, 0, 0]</td>\n",
       "      <td>[0, 1, 0, 0, 0, 0]</td>\n",
       "      <td>NaN</td>\n",
       "      <td>Creature — Sponge</td>\n",
       "      <td>1</td>\n",
       "      <td>1</td>\n",
       "      <td>ulg</td>\n",
       "    </tr>\n",
       "    <tr>\n",
       "      <th>...</th>\n",
       "      <td>...</td>\n",
       "      <td>...</td>\n",
       "      <td>...</td>\n",
       "      <td>...</td>\n",
       "      <td>...</td>\n",
       "      <td>...</td>\n",
       "      <td>...</td>\n",
       "      <td>...</td>\n",
       "      <td>...</td>\n",
       "    </tr>\n",
       "    <tr>\n",
       "      <th>24444</th>\n",
       "      <td>Quarry Beetle</td>\n",
       "      <td>When CARDNAME enters the battlefield, you may ...</td>\n",
       "      <td>[0, 0, 0, 0, 1, 0]</td>\n",
       "      <td>[0, 0, 0, 0, 1, 0]</td>\n",
       "      <td>NaN</td>\n",
       "      <td>Creature — Insect</td>\n",
       "      <td>4</td>\n",
       "      <td>5</td>\n",
       "      <td>hou</td>\n",
       "    </tr>\n",
       "    <tr>\n",
       "      <th>24445</th>\n",
       "      <td>Devoted Hero</td>\n",
       "      <td></td>\n",
       "      <td>[1, 0, 0, 0, 0, 0]</td>\n",
       "      <td>[1, 0, 0, 0, 0, 0]</td>\n",
       "      <td>NaN</td>\n",
       "      <td>Creature — Elf Soldier</td>\n",
       "      <td>1</td>\n",
       "      <td>2</td>\n",
       "      <td>s99</td>\n",
       "    </tr>\n",
       "    <tr>\n",
       "      <th>24446</th>\n",
       "      <td>Without Weakness</td>\n",
       "      <td>Target creature you control gains indestructib...</td>\n",
       "      <td>[0, 0, 1, 0, 0, 0]</td>\n",
       "      <td>[0, 0, 1, 0, 0, 0]</td>\n",
       "      <td>NaN</td>\n",
       "      <td>Instant</td>\n",
       "      <td>None</td>\n",
       "      <td>None</td>\n",
       "      <td>hou</td>\n",
       "    </tr>\n",
       "    <tr>\n",
       "      <th>24447</th>\n",
       "      <td>Firesong and Sunspeaker</td>\n",
       "      <td>Red instant and sorcery spells you control hav...</td>\n",
       "      <td>[1, 0, 0, 1, 0, 0]</td>\n",
       "      <td>[1, 0, 0, 1, 0, 0]</td>\n",
       "      <td>NaN</td>\n",
       "      <td>Legendary Creature — Minotaur Cleric</td>\n",
       "      <td>4</td>\n",
       "      <td>6</td>\n",
       "      <td>2x2</td>\n",
       "    </tr>\n",
       "    <tr>\n",
       "      <th>24448</th>\n",
       "      <td>Sinew Sliver</td>\n",
       "      <td>All Sliver creatures get +1/+1.</td>\n",
       "      <td>[1, 0, 0, 0, 0, 0]</td>\n",
       "      <td>[1, 0, 0, 0, 0, 0]</td>\n",
       "      <td>NaN</td>\n",
       "      <td>Creature — Sliver</td>\n",
       "      <td>1</td>\n",
       "      <td>1</td>\n",
       "      <td>tsr</td>\n",
       "    </tr>\n",
       "  </tbody>\n",
       "</table>\n",
       "<p>24449 rows × 9 columns</p>\n",
       "</div>"
      ],
      "text/plain": [
       "                          name   \n",
       "0                   Static Orb  \\\n",
       "1          Sensory Deprivation   \n",
       "2               Road of Return   \n",
       "3                   Storm Crow   \n",
       "4               Walking Sponge   \n",
       "...                        ...   \n",
       "24444            Quarry Beetle   \n",
       "24445             Devoted Hero   \n",
       "24446         Without Weakness   \n",
       "24447  Firesong and Sunspeaker   \n",
       "24448             Sinew Sliver   \n",
       "\n",
       "                                              rules_text              colors   \n",
       "0      As long as CARDNAME is untapped, players can't...  [0, 0, 0, 0, 0, 1]  \\\n",
       "1       Enchant creature\\nEnchanted creature gets -3/-0.  [0, 1, 0, 0, 0, 0]   \n",
       "2      Choose one —\\n• Return target permanent card f...  [0, 0, 0, 0, 1, 0]   \n",
       "3      Flying (This creature can't be blocked except ...  [0, 1, 0, 0, 0, 0]   \n",
       "4       tap: Target creature loses your choice of fly...  [0, 1, 0, 0, 0, 0]   \n",
       "...                                                  ...                 ...   \n",
       "24444  When CARDNAME enters the battlefield, you may ...  [0, 0, 0, 0, 1, 0]   \n",
       "24445                                                     [1, 0, 0, 0, 0, 0]   \n",
       "24446  Target creature you control gains indestructib...  [0, 0, 1, 0, 0, 0]   \n",
       "24447  Red instant and sorcery spells you control hav...  [1, 0, 0, 1, 0, 0]   \n",
       "24448                    All Sliver creatures get +1/+1.  [1, 0, 0, 0, 0, 0]   \n",
       "\n",
       "           color_identity  flavour_text                             type_line   \n",
       "0      [0, 0, 0, 0, 0, 1]           NaN                              Artifact  \\\n",
       "1      [0, 1, 0, 0, 0, 0]           NaN                    Enchantment — Aura   \n",
       "2      [0, 0, 0, 0, 1, 0]           NaN                               Sorcery   \n",
       "3      [0, 1, 0, 0, 0, 0]           NaN                       Creature — Bird   \n",
       "4      [0, 1, 0, 0, 0, 0]           NaN                     Creature — Sponge   \n",
       "...                   ...           ...                                   ...   \n",
       "24444  [0, 0, 0, 0, 1, 0]           NaN                     Creature — Insect   \n",
       "24445  [1, 0, 0, 0, 0, 0]           NaN                Creature — Elf Soldier   \n",
       "24446  [0, 0, 1, 0, 0, 0]           NaN                               Instant   \n",
       "24447  [1, 0, 0, 1, 0, 0]           NaN  Legendary Creature — Minotaur Cleric   \n",
       "24448  [1, 0, 0, 0, 0, 0]           NaN                     Creature — Sliver   \n",
       "\n",
       "      power toughness  set  \n",
       "0      None      None  7ed  \n",
       "1      None      None  m14  \n",
       "2      None      None  c19  \n",
       "3         1         2  9ed  \n",
       "4         1         1  ulg  \n",
       "...     ...       ...  ...  \n",
       "24444     4         5  hou  \n",
       "24445     1         2  s99  \n",
       "24446  None      None  hou  \n",
       "24447     4         6  2x2  \n",
       "24448     1         1  tsr  \n",
       "\n",
       "[24449 rows x 9 columns]"
      ]
     },
     "execution_count": 2,
     "metadata": {},
     "output_type": "execute_result"
    }
   ],
   "source": [
    "cards = pd.read_json(\"data/cards.json\")\n",
    "cards"
   ]
  },
  {
   "cell_type": "code",
   "execution_count": 3,
   "id": "b9a1268b",
   "metadata": {},
   "outputs": [],
   "source": [
    "X = cards[\"rules_text\"]\n",
    "Y = cards[\"color_identity\"]\n",
    "\n",
    "x_train, x_test, y_train, y_test = train_test_split(X, Y, test_size=0.20)"
   ]
  },
  {
   "cell_type": "code",
   "execution_count": 4,
   "id": "fb4205dd",
   "metadata": {},
   "outputs": [],
   "source": [
    "nr_of_targets= 5\n",
    "y_train = [np.asarray(y)[0:nr_of_targets].astype('float32').ravel() for y in y_train] \n",
    "y_test = [np.asarray(y)[0:nr_of_targets].astype('float32').ravel() for y in y_test]\n",
    "y_train = tf.convert_to_tensor(y_train)\n",
    "y_test = tf.convert_to_tensor(y_test)"
   ]
  },
  {
   "cell_type": "code",
   "execution_count": 5,
   "id": "2caca919",
   "metadata": {},
   "outputs": [],
   "source": [
    "tokenizer = Tokenizer(num_words=5000)\n",
    "tokenizer.fit_on_texts(x_train)"
   ]
  },
  {
   "cell_type": "code",
   "execution_count": 6,
   "id": "82e7cb50",
   "metadata": {},
   "outputs": [],
   "source": [
    "x_train = tokenizer.texts_to_sequences(x_train)\n",
    "x_test = tokenizer.texts_to_sequences(x_test)"
   ]
  },
  {
   "cell_type": "code",
   "execution_count": 7,
   "id": "01e9e8ef",
   "metadata": {},
   "outputs": [],
   "source": [
    "vocab_size = len(tokenizer.word_index) + 2\n",
    "maxlen = 50\n",
    "\n",
    "x_train = pad_sequences(x_train, padding='post', maxlen=maxlen)\n",
    "x_test = pad_sequences(x_test, padding='post', maxlen=maxlen)"
   ]
  },
  {
   "cell_type": "code",
   "execution_count": 9,
   "id": "ebfee391",
   "metadata": {},
   "outputs": [
    {
     "name": "stdout",
     "output_type": "stream",
     "text": [
      "Found 400000 word vectors.\n",
      "Converted 2222 words (505 misses)\n"
     ]
    }
   ],
   "source": [
    "from numpy import array\n",
    "from numpy import asarray\n",
    "from numpy import zeros\n",
    "\n",
    "#https://keras.io/examples/nlp/pretrained_word_embeddings/\n",
    "embeddings_index = {}\n",
    "with open('data/glove.6B.100d.txt', encoding=\"utf8\") as f:\n",
    "    for line in f:\n",
    "        word, coefs = line.split(maxsplit=1)\n",
    "        coefs = np.fromstring(coefs, \"f\", sep=\" \")\n",
    "        embeddings_index[word] = coefs\n",
    "\n",
    "print(\"Found %s word vectors.\" % len(embeddings_index))\n",
    "\n",
    "hits = 0\n",
    "misses = 0\n",
    "\n",
    "# Prepare embedding matrix\n",
    "embedding_matrix = np.zeros((vocab_size, 100))\n",
    "for word, i in tokenizer.word_index.items():\n",
    "    embedding_vector = embeddings_index.get(word)\n",
    "    if embedding_vector is not None:\n",
    "        # Words not found in embedding index will be all-zeros.\n",
    "        # This includes the representation for \"padding\" and \"OOV\"\n",
    "        embedding_matrix[i] = embedding_vector\n",
    "        hits += 1\n",
    "    else:\n",
    "        misses += 1\n",
    "print(\"Converted %d words (%d misses)\" % (hits, misses))"
   ]
  },
  {
   "cell_type": "code",
   "execution_count": 10,
   "id": "53c6acb1",
   "metadata": {},
   "outputs": [],
   "source": [
    "deep_inputs = Input(shape=(maxlen,))\n",
    "embedding_layer = Embedding(vocab_size, 100, weights=[embedding_matrix], trainable=False)(deep_inputs)\n",
    "LSTM_Layer_1 = LSTM(128)(embedding_layer)\n",
    "dense_layer_1 = Dense(nr_of_targets, activation='sigmoid')(LSTM_Layer_1)\n",
    "model = Model(inputs=deep_inputs, outputs=dense_layer_1)\n",
    "\n",
    "model.compile(loss='binary_crossentropy', optimizer='adam', metrics=['acc'])"
   ]
  },
  {
   "cell_type": "code",
   "execution_count": 11,
   "id": "26115c21",
   "metadata": {},
   "outputs": [
    {
     "name": "stdout",
     "output_type": "stream",
     "text": [
      "Epoch 1/20\n",
      "123/123 [==============================] - 9s 39ms/step - loss: 0.5270 - acc: 0.2339 - val_loss: 0.5157 - val_acc: 0.1659\n",
      "Epoch 2/20\n",
      "123/123 [==============================] - 4s 33ms/step - loss: 0.5152 - acc: 0.2176 - val_loss: 0.5144 - val_acc: 0.1664\n",
      "Epoch 3/20\n",
      "123/123 [==============================] - 4s 33ms/step - loss: 0.5135 - acc: 0.2411 - val_loss: 0.5184 - val_acc: 0.3211\n",
      "Epoch 4/20\n",
      "123/123 [==============================] - 4s 33ms/step - loss: 0.5018 - acc: 0.2700 - val_loss: 0.4877 - val_acc: 0.3226\n",
      "Epoch 5/20\n",
      "123/123 [==============================] - 4s 33ms/step - loss: 0.4569 - acc: 0.3656 - val_loss: 0.4344 - val_acc: 0.4128\n",
      "Epoch 6/20\n",
      "123/123 [==============================] - 4s 33ms/step - loss: 0.4182 - acc: 0.4535 - val_loss: 0.4017 - val_acc: 0.4645\n",
      "Epoch 7/20\n",
      "123/123 [==============================] - 4s 33ms/step - loss: 0.3819 - acc: 0.5274 - val_loss: 0.3847 - val_acc: 0.5003\n",
      "Epoch 8/20\n",
      "123/123 [==============================] - 4s 33ms/step - loss: 0.3589 - acc: 0.5611 - val_loss: 0.3612 - val_acc: 0.5307\n",
      "Epoch 9/20\n",
      "123/123 [==============================] - 4s 32ms/step - loss: 0.3411 - acc: 0.5810 - val_loss: 0.3404 - val_acc: 0.5823\n",
      "Epoch 10/20\n",
      "123/123 [==============================] - 4s 33ms/step - loss: 0.3276 - acc: 0.5963 - val_loss: 0.3354 - val_acc: 0.5913\n",
      "Epoch 11/20\n",
      "123/123 [==============================] - 4s 33ms/step - loss: 0.3174 - acc: 0.6098 - val_loss: 0.3253 - val_acc: 0.5902\n",
      "Epoch 12/20\n",
      "123/123 [==============================] - 4s 33ms/step - loss: 0.3059 - acc: 0.6234 - val_loss: 0.3167 - val_acc: 0.6069\n",
      "Epoch 13/20\n",
      "123/123 [==============================] - 4s 33ms/step - loss: 0.2968 - acc: 0.6381 - val_loss: 0.3145 - val_acc: 0.6007\n",
      "Epoch 14/20\n",
      "123/123 [==============================] - 4s 33ms/step - loss: 0.2894 - acc: 0.6424 - val_loss: 0.3111 - val_acc: 0.5907\n",
      "Epoch 15/20\n",
      "123/123 [==============================] - 4s 34ms/step - loss: 0.2797 - acc: 0.6528 - val_loss: 0.3118 - val_acc: 0.6063\n",
      "Epoch 16/20\n",
      "123/123 [==============================] - 4s 33ms/step - loss: 0.2741 - acc: 0.6592 - val_loss: 0.3024 - val_acc: 0.5999\n",
      "Epoch 17/20\n",
      "123/123 [==============================] - 4s 33ms/step - loss: 0.2660 - acc: 0.6658 - val_loss: 0.3070 - val_acc: 0.6028\n",
      "Epoch 18/20\n",
      "123/123 [==============================] - 4s 33ms/step - loss: 0.2595 - acc: 0.6693 - val_loss: 0.3019 - val_acc: 0.6207\n",
      "Epoch 19/20\n",
      "123/123 [==============================] - 4s 33ms/step - loss: 0.2515 - acc: 0.6769 - val_loss: 0.3065 - val_acc: 0.6035\n",
      "Epoch 20/20\n",
      "123/123 [==============================] - 4s 33ms/step - loss: 0.2441 - acc: 0.6831 - val_loss: 0.3095 - val_acc: 0.6235\n"
     ]
    }
   ],
   "source": [
    "history = model.fit(x_train, y_train, batch_size=128, epochs=20, verbose=1, validation_split=0.2)"
   ]
  },
  {
   "cell_type": "code",
   "execution_count": 12,
   "id": "0ddaa5b6",
   "metadata": {},
   "outputs": [
    {
     "name": "stdout",
     "output_type": "stream",
     "text": [
      "153/153 [==============================] - 1s 8ms/step - loss: 0.3145 - acc: 0.6284\n",
      "Test Score: 0.314476877450943\n",
      "Test Accuracy: 0.6284253597259521\n"
     ]
    }
   ],
   "source": [
    "score = model.evaluate(x_test, y_test, verbose=1)\n",
    "print(\"Test Score:\", score[0])\n",
    "print(\"Test Accuracy:\", score[1])"
   ]
  },
  {
   "cell_type": "code",
   "execution_count": 13,
   "id": "168fda38",
   "metadata": {},
   "outputs": [
    {
     "name": "stdout",
     "output_type": "stream",
     "text": [
      "153/153 [==============================] - 1s 5ms/step\n"
     ]
    }
   ],
   "source": [
    "predictions = model.predict(x_test)"
   ]
  },
  {
   "cell_type": "code",
   "execution_count": 14,
   "id": "f4826548",
   "metadata": {},
   "outputs": [
    {
     "data": {
      "text/plain": [
       "array([[0.04808267, 0.03192785, 0.6846058 , 0.13833001, 0.1567531 ],\n",
       "       [0.00632542, 0.01756191, 0.04748635, 0.73328656, 0.01997124],\n",
       "       [0.00294442, 0.41260827, 0.82829916, 0.00405894, 0.00867659],\n",
       "       ...,\n",
       "       [0.57084244, 0.17063533, 0.05390633, 0.01598805, 0.12810197],\n",
       "       [0.02420046, 0.96644586, 0.02234758, 0.01348739, 0.01151406],\n",
       "       [0.02905421, 0.0390164 , 0.01169936, 0.25367045, 0.5904845 ]],\n",
       "      dtype=float32)"
      ]
     },
     "execution_count": 14,
     "metadata": {},
     "output_type": "execute_result"
    }
   ],
   "source": [
    "predictions"
   ]
  },
  {
   "cell_type": "code",
   "execution_count": 15,
   "id": "3541b6cf",
   "metadata": {},
   "outputs": [
    {
     "data": {
      "text/plain": [
       "<tf.Tensor: shape=(4890, 5), dtype=float32, numpy=\n",
       "array([[0., 0., 0., 0., 1.],\n",
       "       [0., 0., 0., 1., 0.],\n",
       "       [0., 1., 1., 0., 0.],\n",
       "       ...,\n",
       "       [0., 0., 0., 0., 0.],\n",
       "       [0., 1., 0., 0., 0.],\n",
       "       [0., 0., 0., 0., 1.]], dtype=float32)>"
      ]
     },
     "execution_count": 15,
     "metadata": {},
     "output_type": "execute_result"
    }
   ],
   "source": [
    "y_test"
   ]
  },
  {
   "cell_type": "code",
   "execution_count": null,
   "id": "254b9375",
   "metadata": {},
   "outputs": [],
   "source": []
  }
 ],
 "metadata": {
  "kernelspec": {
   "display_name": "Python 3 (ipykernel)",
   "language": "python",
   "name": "python3"
  },
  "language_info": {
   "codemirror_mode": {
    "name": "ipython",
    "version": 3
   },
   "file_extension": ".py",
   "mimetype": "text/x-python",
   "name": "python",
   "nbconvert_exporter": "python",
   "pygments_lexer": "ipython3",
   "version": "3.9.16"
  }
 },
 "nbformat": 4,
 "nbformat_minor": 5
}
