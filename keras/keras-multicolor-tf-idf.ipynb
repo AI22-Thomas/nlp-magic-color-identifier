{
 "cells": [
  {
   "cell_type": "code",
   "execution_count": 1,
   "id": "77f2c88f",
   "metadata": {
    "ExecuteTime": {
     "start_time": "2023-04-18T22:43:09.733976Z",
     "end_time": "2023-04-18T22:43:17.250401Z"
    }
   },
   "outputs": [
    {
     "name": "stdout",
     "output_type": "stream",
     "text": [
      "Requirement already satisfied: pandas in /usr/local/lib/python3.8/dist-packages (2.0.0)\r\n",
      "Requirement already satisfied: keras in /usr/local/lib/python3.8/dist-packages (2.12.0)\r\n",
      "Requirement already satisfied: scikit-learn in /usr/local/lib/python3.8/dist-packages (1.2.2)\r\n",
      "Collecting keras_nlp\r\n",
      "  Downloading keras_nlp-0.4.1-py3-none-any.whl (466 kB)\r\n",
      "\u001B[2K     \u001B[90m━━━━━━━━━━━━━━━━━━━━━━━━━━━━━━━━━━━━━━\u001B[0m \u001B[32m466.8/466.8 kB\u001B[0m \u001B[31m14.2 MB/s\u001B[0m eta \u001B[36m0:00:00\u001B[0m\r\n",
      "\u001B[?25hRequirement already satisfied: python-dateutil>=2.8.2 in /usr/local/lib/python3.8/dist-packages (from pandas) (2.8.2)\r\n",
      "Requirement already satisfied: pytz>=2020.1 in /usr/local/lib/python3.8/dist-packages (from pandas) (2023.3)\r\n",
      "Requirement already satisfied: numpy>=1.20.3 in /usr/local/lib/python3.8/dist-packages (from pandas) (1.23.5)\r\n",
      "Requirement already satisfied: tzdata>=2022.1 in /usr/local/lib/python3.8/dist-packages (from pandas) (2023.3)\r\n",
      "Requirement already satisfied: threadpoolctl>=2.0.0 in /usr/local/lib/python3.8/dist-packages (from scikit-learn) (3.1.0)\r\n",
      "Requirement already satisfied: scipy>=1.3.2 in /usr/local/lib/python3.8/dist-packages (from scikit-learn) (1.10.1)\r\n",
      "Requirement already satisfied: joblib>=1.1.1 in /usr/local/lib/python3.8/dist-packages (from scikit-learn) (1.2.0)\r\n",
      "Collecting tensorflow-text\r\n",
      "  Downloading tensorflow_text-2.12.1-cp38-cp38-manylinux_2_17_x86_64.manylinux2014_x86_64.whl (6.0 MB)\r\n",
      "\u001B[2K     \u001B[90m━━━━━━━━━━━━━━━━━━━━━━━━━━━━━━━━━━━━━━━━\u001B[0m \u001B[32m6.0/6.0 MB\u001B[0m \u001B[31m19.8 MB/s\u001B[0m eta \u001B[36m0:00:00\u001B[0m00:01\u001B[0m00:01\u001B[0m\r\n",
      "\u001B[?25hRequirement already satisfied: packaging in /usr/local/lib/python3.8/dist-packages (from keras_nlp) (23.0)\r\n",
      "Requirement already satisfied: absl-py in /usr/local/lib/python3.8/dist-packages (from keras_nlp) (1.4.0)\r\n",
      "Requirement already satisfied: six>=1.5 in /usr/lib/python3/dist-packages (from python-dateutil>=2.8.2->pandas) (1.14.0)\r\n",
      "Requirement already satisfied: tensorflow<2.13,>=2.12.0 in /usr/local/lib/python3.8/dist-packages (from tensorflow-text->keras_nlp) (2.12.0)\r\n",
      "Collecting tensorflow-hub>=0.8.0\r\n",
      "  Downloading tensorflow_hub-0.13.0-py2.py3-none-any.whl (100 kB)\r\n",
      "\u001B[2K     \u001B[90m━━━━━━━━━━━━━━━━━━━━━━━━━━━━━━━━━━━━━━\u001B[0m \u001B[32m100.6/100.6 kB\u001B[0m \u001B[31m18.3 MB/s\u001B[0m eta \u001B[36m0:00:00\u001B[0m\r\n",
      "\u001B[?25hRequirement already satisfied: setuptools in /usr/local/lib/python3.8/dist-packages (from tensorflow<2.13,>=2.12.0->tensorflow-text->keras_nlp) (67.6.0)\r\n",
      "Requirement already satisfied: protobuf!=4.21.0,!=4.21.1,!=4.21.2,!=4.21.3,!=4.21.4,!=4.21.5,<5.0.0dev,>=3.20.3 in /usr/local/lib/python3.8/dist-packages (from tensorflow<2.13,>=2.12.0->tensorflow-text->keras_nlp) (4.22.1)\r\n",
      "Requirement already satisfied: jax>=0.3.15 in /usr/local/lib/python3.8/dist-packages (from tensorflow<2.13,>=2.12.0->tensorflow-text->keras_nlp) (0.4.6)\r\n",
      "Requirement already satisfied: libclang>=13.0.0 in /usr/local/lib/python3.8/dist-packages (from tensorflow<2.13,>=2.12.0->tensorflow-text->keras_nlp) (16.0.0)\r\n",
      "Requirement already satisfied: opt-einsum>=2.3.2 in /usr/local/lib/python3.8/dist-packages (from tensorflow<2.13,>=2.12.0->tensorflow-text->keras_nlp) (3.3.0)\r\n",
      "Requirement already satisfied: termcolor>=1.1.0 in /usr/local/lib/python3.8/dist-packages (from tensorflow<2.13,>=2.12.0->tensorflow-text->keras_nlp) (2.2.0)\r\n",
      "Requirement already satisfied: tensorflow-estimator<2.13,>=2.12.0 in /usr/local/lib/python3.8/dist-packages (from tensorflow<2.13,>=2.12.0->tensorflow-text->keras_nlp) (2.12.0)\r\n",
      "Requirement already satisfied: gast<=0.4.0,>=0.2.1 in /usr/local/lib/python3.8/dist-packages (from tensorflow<2.13,>=2.12.0->tensorflow-text->keras_nlp) (0.4.0)\r\n",
      "Requirement already satisfied: wrapt<1.15,>=1.11.0 in /usr/local/lib/python3.8/dist-packages (from tensorflow<2.13,>=2.12.0->tensorflow-text->keras_nlp) (1.14.1)\r\n",
      "Requirement already satisfied: tensorflow-io-gcs-filesystem>=0.23.1 in /usr/local/lib/python3.8/dist-packages (from tensorflow<2.13,>=2.12.0->tensorflow-text->keras_nlp) (0.31.0)\r\n",
      "Requirement already satisfied: astunparse>=1.6.0 in /usr/local/lib/python3.8/dist-packages (from tensorflow<2.13,>=2.12.0->tensorflow-text->keras_nlp) (1.6.3)\r\n",
      "Requirement already satisfied: grpcio<2.0,>=1.24.3 in /usr/local/lib/python3.8/dist-packages (from tensorflow<2.13,>=2.12.0->tensorflow-text->keras_nlp) (1.51.3)\r\n",
      "Requirement already satisfied: tensorboard<2.13,>=2.12 in /usr/local/lib/python3.8/dist-packages (from tensorflow<2.13,>=2.12.0->tensorflow-text->keras_nlp) (2.12.0)\r\n",
      "Requirement already satisfied: google-pasta>=0.1.1 in /usr/local/lib/python3.8/dist-packages (from tensorflow<2.13,>=2.12.0->tensorflow-text->keras_nlp) (0.2.0)\r\n",
      "Requirement already satisfied: typing-extensions>=3.6.6 in /usr/local/lib/python3.8/dist-packages (from tensorflow<2.13,>=2.12.0->tensorflow-text->keras_nlp) (4.5.0)\r\n",
      "Requirement already satisfied: flatbuffers>=2.0 in /usr/local/lib/python3.8/dist-packages (from tensorflow<2.13,>=2.12.0->tensorflow-text->keras_nlp) (23.3.3)\r\n",
      "Requirement already satisfied: h5py>=2.9.0 in /usr/local/lib/python3.8/dist-packages (from tensorflow<2.13,>=2.12.0->tensorflow-text->keras_nlp) (3.8.0)\r\n",
      "Requirement already satisfied: wheel<1.0,>=0.23.0 in /usr/local/lib/python3.8/dist-packages (from astunparse>=1.6.0->tensorflow<2.13,>=2.12.0->tensorflow-text->keras_nlp) (0.40.0)\r\n",
      "Requirement already satisfied: google-auth<3,>=1.6.3 in /usr/local/lib/python3.8/dist-packages (from tensorboard<2.13,>=2.12->tensorflow<2.13,>=2.12.0->tensorflow-text->keras_nlp) (2.16.2)\r\n",
      "Requirement already satisfied: tensorboard-data-server<0.8.0,>=0.7.0 in /usr/local/lib/python3.8/dist-packages (from tensorboard<2.13,>=2.12->tensorflow<2.13,>=2.12.0->tensorflow-text->keras_nlp) (0.7.0)\r\n",
      "Requirement already satisfied: tensorboard-plugin-wit>=1.6.0 in /usr/local/lib/python3.8/dist-packages (from tensorboard<2.13,>=2.12->tensorflow<2.13,>=2.12.0->tensorflow-text->keras_nlp) (1.8.1)\r\n",
      "Requirement already satisfied: werkzeug>=1.0.1 in /usr/local/lib/python3.8/dist-packages (from tensorboard<2.13,>=2.12->tensorflow<2.13,>=2.12.0->tensorflow-text->keras_nlp) (2.2.3)\r\n",
      "Requirement already satisfied: requests<3,>=2.21.0 in /usr/lib/python3/dist-packages (from tensorboard<2.13,>=2.12->tensorflow<2.13,>=2.12.0->tensorflow-text->keras_nlp) (2.22.0)\r\n",
      "Requirement already satisfied: markdown>=2.6.8 in /usr/local/lib/python3.8/dist-packages (from tensorboard<2.13,>=2.12->tensorflow<2.13,>=2.12.0->tensorflow-text->keras_nlp) (3.4.3)\r\n",
      "Requirement already satisfied: google-auth-oauthlib<0.5,>=0.4.1 in /usr/local/lib/python3.8/dist-packages (from tensorboard<2.13,>=2.12->tensorflow<2.13,>=2.12.0->tensorflow-text->keras_nlp) (0.4.6)\r\n",
      "Requirement already satisfied: cachetools<6.0,>=2.0.0 in /usr/local/lib/python3.8/dist-packages (from google-auth<3,>=1.6.3->tensorboard<2.13,>=2.12->tensorflow<2.13,>=2.12.0->tensorflow-text->keras_nlp) (5.3.0)\r\n",
      "Requirement already satisfied: pyasn1-modules>=0.2.1 in /usr/local/lib/python3.8/dist-packages (from google-auth<3,>=1.6.3->tensorboard<2.13,>=2.12->tensorflow<2.13,>=2.12.0->tensorflow-text->keras_nlp) (0.2.8)\r\n",
      "Requirement already satisfied: rsa<5,>=3.1.4 in /usr/local/lib/python3.8/dist-packages (from google-auth<3,>=1.6.3->tensorboard<2.13,>=2.12->tensorflow<2.13,>=2.12.0->tensorflow-text->keras_nlp) (4.9)\r\n",
      "Requirement already satisfied: requests-oauthlib>=0.7.0 in /usr/local/lib/python3.8/dist-packages (from google-auth-oauthlib<0.5,>=0.4.1->tensorboard<2.13,>=2.12->tensorflow<2.13,>=2.12.0->tensorflow-text->keras_nlp) (1.3.1)\r\n",
      "Requirement already satisfied: importlib-metadata>=4.4 in /usr/local/lib/python3.8/dist-packages (from markdown>=2.6.8->tensorboard<2.13,>=2.12->tensorflow<2.13,>=2.12.0->tensorflow-text->keras_nlp) (6.1.0)\r\n",
      "Requirement already satisfied: MarkupSafe>=2.1.1 in /usr/local/lib/python3.8/dist-packages (from werkzeug>=1.0.1->tensorboard<2.13,>=2.12->tensorflow<2.13,>=2.12.0->tensorflow-text->keras_nlp) (2.1.2)\r\n",
      "Requirement already satisfied: zipp>=0.5 in /usr/local/lib/python3.8/dist-packages (from importlib-metadata>=4.4->markdown>=2.6.8->tensorboard<2.13,>=2.12->tensorflow<2.13,>=2.12.0->tensorflow-text->keras_nlp) (3.15.0)\r\n",
      "Requirement already satisfied: pyasn1<0.5.0,>=0.4.6 in /usr/local/lib/python3.8/dist-packages (from pyasn1-modules>=0.2.1->google-auth<3,>=1.6.3->tensorboard<2.13,>=2.12->tensorflow<2.13,>=2.12.0->tensorflow-text->keras_nlp) (0.4.8)\r\n",
      "Requirement already satisfied: oauthlib>=3.0.0 in /usr/local/lib/python3.8/dist-packages (from requests-oauthlib>=0.7.0->google-auth-oauthlib<0.5,>=0.4.1->tensorboard<2.13,>=2.12->tensorflow<2.13,>=2.12.0->tensorflow-text->keras_nlp) (3.2.2)\r\n",
      "Installing collected packages: tensorflow-hub, tensorflow-text, keras_nlp\r\n",
      "Successfully installed keras_nlp-0.4.1 tensorflow-hub-0.13.0 tensorflow-text-2.12.1\r\n",
      "\u001B[33mWARNING: Running pip as the 'root' user can result in broken permissions and conflicting behaviour with the system package manager. It is recommended to use a virtual environment instead: https://pip.pypa.io/warnings/venv\u001B[0m\u001B[33m\r\n",
      "\u001B[0m\r\n",
      "\u001B[1m[\u001B[0m\u001B[34;49mnotice\u001B[0m\u001B[1;39;49m]\u001B[0m\u001B[39;49m A new release of pip is available: \u001B[0m\u001B[31;49m23.0.1\u001B[0m\u001B[39;49m -> \u001B[0m\u001B[32;49m23.1\u001B[0m\r\n",
      "\u001B[1m[\u001B[0m\u001B[34;49mnotice\u001B[0m\u001B[1;39;49m]\u001B[0m\u001B[39;49m To update, run: \u001B[0m\u001B[32;49mpython3 -m pip install --upgrade pip\u001B[0m\r\n"
     ]
    },
    {
     "name": "stderr",
     "output_type": "stream",
     "text": [
      "2023-04-18 20:43:15.346501: I tensorflow/core/platform/cpu_feature_guard.cc:182] This TensorFlow binary is optimized to use available CPU instructions in performance-critical operations.\n",
      "To enable the following instructions: AVX2 FMA, in other operations, rebuild TensorFlow with the appropriate compiler flags.\n"
     ]
    }
   ],
   "source": [
    "import pandas as pd\n",
    "import tensorflow as tf\n",
    "from tensorflow import keras\n",
    "from sklearn.model_selection import train_test_split\n",
    "import numpy as np\n",
    "import sklearn\n",
    "\n",
    "from keras.models import Model\n",
    "from keras.preprocessing.text import Tokenizer\n",
    "from keras.utils import pad_sequences\n",
    "from keras.layers import Input, LeakyReLU\n",
    "from keras.layers.core import Activation, Dropout, Dense\n",
    "from keras.layers import Flatten, LSTM, Embedding"
   ]
  },
  {
   "cell_type": "code",
   "execution_count": 2,
   "id": "9b0b50cf",
   "metadata": {
    "scrolled": true,
    "ExecuteTime": {
     "start_time": "2023-04-18T22:43:17.254609Z",
     "end_time": "2023-04-18T22:43:17.571401Z"
    }
   },
   "outputs": [
    {
     "data": {
      "text/plain": "                          name   \n0                   Static Orb  \\\n1          Sensory Deprivation   \n2               Road of Return   \n3                   Storm Crow   \n4               Walking Sponge   \n...                        ...   \n25132             Devoted Hero   \n25133         Without Weakness   \n25134  Firesong and Sunspeaker   \n25135        Samut, the Tested   \n25136             Sinew Sliver   \n\n                                              rules_text              colors   \n0      As long as CARDNAME is untapped, players can't...  [0, 0, 0, 0, 0, 1]  \\\n1      Enchant creature\\nEnchanted creature gets <-3/...  [0, 1, 0, 0, 0, 0]   \n2      Choose one —\\n• Return target permanent card f...  [0, 0, 0, 0, 1, 0]   \n3      Flying (This creature can't be blocked except ...  [0, 1, 0, 0, 0, 0]   \n4       tap: Target creature loses your choice of fly...  [0, 1, 0, 0, 0, 0]   \n...                                                  ...                 ...   \n25132                                                     [1, 0, 0, 0, 0, 0]   \n25133  Target creature you control gains indestructib...  [0, 0, 1, 0, 0, 0]   \n25134  Red instant and sorcery spells you control hav...  [1, 0, 0, 1, 0, 0]   \n25135  +1: Up to one target creature gains double str...  [0, 0, 0, 1, 1, 0]   \n25136                  All Sliver creatures get <+1/+1>.  [1, 0, 0, 0, 0, 0]   \n\n           color_identity  flavour_text                             type_line   \n0      [0, 0, 0, 0, 0, 1]           NaN                              Artifact  \\\n1      [0, 1, 0, 0, 0, 0]           NaN                    Enchantment — Aura   \n2      [0, 0, 0, 0, 1, 0]           NaN                               Sorcery   \n3      [0, 1, 0, 0, 0, 0]           NaN                       Creature — Bird   \n4      [0, 1, 0, 0, 0, 0]           NaN                     Creature — Sponge   \n...                   ...           ...                                   ...   \n25132  [1, 0, 0, 0, 0, 0]           NaN                Creature — Elf Soldier   \n25133  [0, 0, 1, 0, 0, 0]           NaN                               Instant   \n25134  [1, 0, 0, 1, 0, 0]           NaN  Legendary Creature — Minotaur Cleric   \n25135  [0, 0, 0, 1, 1, 0]           NaN        Legendary Planeswalker — Samut   \n25136  [1, 0, 0, 0, 0, 0]           NaN                     Creature — Sliver   \n\n      power toughness  set  \n0      None      None  7ed  \n1      None      None  m14  \n2      None      None  c19  \n3         1         2  9ed  \n4         1         1  ulg  \n...     ...       ...  ...  \n25132     1         2  s99  \n25133  None      None  hou  \n25134     4         6  2x2  \n25135  None      None  hou  \n25136     1         1  tsr  \n\n[25137 rows x 9 columns]",
      "text/html": "<div>\n<style scoped>\n    .dataframe tbody tr th:only-of-type {\n        vertical-align: middle;\n    }\n\n    .dataframe tbody tr th {\n        vertical-align: top;\n    }\n\n    .dataframe thead th {\n        text-align: right;\n    }\n</style>\n<table border=\"1\" class=\"dataframe\">\n  <thead>\n    <tr style=\"text-align: right;\">\n      <th></th>\n      <th>name</th>\n      <th>rules_text</th>\n      <th>colors</th>\n      <th>color_identity</th>\n      <th>flavour_text</th>\n      <th>type_line</th>\n      <th>power</th>\n      <th>toughness</th>\n      <th>set</th>\n    </tr>\n  </thead>\n  <tbody>\n    <tr>\n      <th>0</th>\n      <td>Static Orb</td>\n      <td>As long as CARDNAME is untapped, players can't...</td>\n      <td>[0, 0, 0, 0, 0, 1]</td>\n      <td>[0, 0, 0, 0, 0, 1]</td>\n      <td>NaN</td>\n      <td>Artifact</td>\n      <td>None</td>\n      <td>None</td>\n      <td>7ed</td>\n    </tr>\n    <tr>\n      <th>1</th>\n      <td>Sensory Deprivation</td>\n      <td>Enchant creature\\nEnchanted creature gets &lt;-3/...</td>\n      <td>[0, 1, 0, 0, 0, 0]</td>\n      <td>[0, 1, 0, 0, 0, 0]</td>\n      <td>NaN</td>\n      <td>Enchantment — Aura</td>\n      <td>None</td>\n      <td>None</td>\n      <td>m14</td>\n    </tr>\n    <tr>\n      <th>2</th>\n      <td>Road of Return</td>\n      <td>Choose one —\\n• Return target permanent card f...</td>\n      <td>[0, 0, 0, 0, 1, 0]</td>\n      <td>[0, 0, 0, 0, 1, 0]</td>\n      <td>NaN</td>\n      <td>Sorcery</td>\n      <td>None</td>\n      <td>None</td>\n      <td>c19</td>\n    </tr>\n    <tr>\n      <th>3</th>\n      <td>Storm Crow</td>\n      <td>Flying (This creature can't be blocked except ...</td>\n      <td>[0, 1, 0, 0, 0, 0]</td>\n      <td>[0, 1, 0, 0, 0, 0]</td>\n      <td>NaN</td>\n      <td>Creature — Bird</td>\n      <td>1</td>\n      <td>2</td>\n      <td>9ed</td>\n    </tr>\n    <tr>\n      <th>4</th>\n      <td>Walking Sponge</td>\n      <td>tap: Target creature loses your choice of fly...</td>\n      <td>[0, 1, 0, 0, 0, 0]</td>\n      <td>[0, 1, 0, 0, 0, 0]</td>\n      <td>NaN</td>\n      <td>Creature — Sponge</td>\n      <td>1</td>\n      <td>1</td>\n      <td>ulg</td>\n    </tr>\n    <tr>\n      <th>...</th>\n      <td>...</td>\n      <td>...</td>\n      <td>...</td>\n      <td>...</td>\n      <td>...</td>\n      <td>...</td>\n      <td>...</td>\n      <td>...</td>\n      <td>...</td>\n    </tr>\n    <tr>\n      <th>25132</th>\n      <td>Devoted Hero</td>\n      <td></td>\n      <td>[1, 0, 0, 0, 0, 0]</td>\n      <td>[1, 0, 0, 0, 0, 0]</td>\n      <td>NaN</td>\n      <td>Creature — Elf Soldier</td>\n      <td>1</td>\n      <td>2</td>\n      <td>s99</td>\n    </tr>\n    <tr>\n      <th>25133</th>\n      <td>Without Weakness</td>\n      <td>Target creature you control gains indestructib...</td>\n      <td>[0, 0, 1, 0, 0, 0]</td>\n      <td>[0, 0, 1, 0, 0, 0]</td>\n      <td>NaN</td>\n      <td>Instant</td>\n      <td>None</td>\n      <td>None</td>\n      <td>hou</td>\n    </tr>\n    <tr>\n      <th>25134</th>\n      <td>Firesong and Sunspeaker</td>\n      <td>Red instant and sorcery spells you control hav...</td>\n      <td>[1, 0, 0, 1, 0, 0]</td>\n      <td>[1, 0, 0, 1, 0, 0]</td>\n      <td>NaN</td>\n      <td>Legendary Creature — Minotaur Cleric</td>\n      <td>4</td>\n      <td>6</td>\n      <td>2x2</td>\n    </tr>\n    <tr>\n      <th>25135</th>\n      <td>Samut, the Tested</td>\n      <td>+1: Up to one target creature gains double str...</td>\n      <td>[0, 0, 0, 1, 1, 0]</td>\n      <td>[0, 0, 0, 1, 1, 0]</td>\n      <td>NaN</td>\n      <td>Legendary Planeswalker — Samut</td>\n      <td>None</td>\n      <td>None</td>\n      <td>hou</td>\n    </tr>\n    <tr>\n      <th>25136</th>\n      <td>Sinew Sliver</td>\n      <td>All Sliver creatures get &lt;+1/+1&gt;.</td>\n      <td>[1, 0, 0, 0, 0, 0]</td>\n      <td>[1, 0, 0, 0, 0, 0]</td>\n      <td>NaN</td>\n      <td>Creature — Sliver</td>\n      <td>1</td>\n      <td>1</td>\n      <td>tsr</td>\n    </tr>\n  </tbody>\n</table>\n<p>25137 rows × 9 columns</p>\n</div>"
     },
     "execution_count": 2,
     "metadata": {},
     "output_type": "execute_result"
    }
   ],
   "source": [
    "import json\n",
    "\n",
    "\n",
    "# convert ot pandas dataframe\n",
    "cards = pd.read_json('../data/cards.json')\n",
    "cards"
   ]
  },
  {
   "cell_type": "code",
   "execution_count": 3,
   "id": "b9a1268b",
   "metadata": {
    "ExecuteTime": {
     "start_time": "2023-04-18T22:43:17.572473Z",
     "end_time": "2023-04-18T22:43:27.197623Z"
    }
   },
   "outputs": [
    {
     "name": "stdout",
     "output_type": "stream",
     "text": [
      "Requirement already satisfied: nltk in /usr/local/lib/python3.8/dist-packages (3.8.1)\r\n",
      "Requirement already satisfied: regex>=2021.8.3 in /usr/local/lib/python3.8/dist-packages (from nltk) (2023.3.23)\r\n",
      "Requirement already satisfied: click in /usr/local/lib/python3.8/dist-packages (from nltk) (8.1.3)\r\n",
      "Requirement already satisfied: joblib in /usr/local/lib/python3.8/dist-packages (from nltk) (1.2.0)\r\n",
      "Requirement already satisfied: tqdm in /usr/local/lib/python3.8/dist-packages (from nltk) (4.65.0)\r\n",
      "\u001B[33mWARNING: Running pip as the 'root' user can result in broken permissions and conflicting behaviour with the system package manager. It is recommended to use a virtual environment instead: https://pip.pypa.io/warnings/venv\u001B[0m\u001B[33m\r\n",
      "\u001B[0m\r\n",
      "\u001B[1m[\u001B[0m\u001B[34;49mnotice\u001B[0m\u001B[1;39;49m]\u001B[0m\u001B[39;49m A new release of pip is available: \u001B[0m\u001B[31;49m23.0.1\u001B[0m\u001B[39;49m -> \u001B[0m\u001B[32;49m23.1\u001B[0m\r\n",
      "\u001B[1m[\u001B[0m\u001B[34;49mnotice\u001B[0m\u001B[1;39;49m]\u001B[0m\u001B[39;49m To update, run: \u001B[0m\u001B[32;49mpython3 -m pip install --upgrade pip\u001B[0m\r\n"
     ]
    },
    {
     "name": "stderr",
     "output_type": "stream",
     "text": [
      "[nltk_data] Downloading package stopwords to /root/nltk_data...\n",
      "[nltk_data]   Package stopwords is already up-to-date!\n"
     ]
    }
   ],
   "source": [
    "import re\n",
    "import nltk\n",
    "nltk.download('stopwords')\n",
    "from nltk.corpus import stopwords\n",
    "\n",
    "# get first where sum color identity is 1\n",
    "# cards = cards[cards['color_identity'].apply(lambda x: len(x) == 1)]\n",
    "\n",
    "X = []\n",
    "for index, card in cards.iterrows():\n",
    "    input_text = card['type_line']\n",
    "    if card['rules_text'] is not None:\n",
    "        input_text += '\\n' + card['rules_text']\n",
    "    if card['power'] is not None:\n",
    "        input_text += '\\n<' + card['power'] + '/' + card['toughness'] + '>'\n",
    "\n",
    "    quoteRemoval = input_text.replace('\"','')\n",
    "    spaceRemoval = re.sub(\"\\s\\s+\" , \" \", quoteRemoval)\n",
    "    stringRemoval = spaceRemoval.strip()\n",
    "    specialChar = re.sub(r\"[^a-zA-Z]+\", ' ',stringRemoval)\n",
    "    stop = set(stopwords.words('english')) #to remove stop words like is,the,that etc\n",
    "    stpwords = ' '.join([i for i in specialChar.lower().split() if i not in stop])\n",
    "\n",
    "    X.append(stpwords)\n",
    "\n",
    "\n",
    "Y = cards[\"color_identity\"]\n",
    "\n",
    "x_train, x_test, y_train, y_test = train_test_split(X, Y, test_size=0.1)"
   ]
  },
  {
   "cell_type": "code",
   "execution_count": 4,
   "id": "fb4205dd",
   "metadata": {
    "ExecuteTime": {
     "start_time": "2023-04-18T22:43:27.214709Z",
     "end_time": "2023-04-18T22:43:29.857759Z"
    }
   },
   "outputs": [
    {
     "name": "stderr",
     "output_type": "stream",
     "text": [
      "2023-04-18 20:43:27.306779: I tensorflow/compiler/xla/stream_executor/cuda/cuda_gpu_executor.cc:982] could not open file to read NUMA node: /sys/bus/pci/devices/0000:01:00.0/numa_node\n",
      "Your kernel may have been built without NUMA support.\n",
      "2023-04-18 20:43:27.322253: I tensorflow/compiler/xla/stream_executor/cuda/cuda_gpu_executor.cc:982] could not open file to read NUMA node: /sys/bus/pci/devices/0000:01:00.0/numa_node\n",
      "Your kernel may have been built without NUMA support.\n",
      "2023-04-18 20:43:27.322576: I tensorflow/compiler/xla/stream_executor/cuda/cuda_gpu_executor.cc:982] could not open file to read NUMA node: /sys/bus/pci/devices/0000:01:00.0/numa_node\n",
      "Your kernel may have been built without NUMA support.\n",
      "2023-04-18 20:43:27.324153: I tensorflow/compiler/xla/stream_executor/cuda/cuda_gpu_executor.cc:982] could not open file to read NUMA node: /sys/bus/pci/devices/0000:01:00.0/numa_node\n",
      "Your kernel may have been built without NUMA support.\n",
      "2023-04-18 20:43:27.324424: I tensorflow/compiler/xla/stream_executor/cuda/cuda_gpu_executor.cc:982] could not open file to read NUMA node: /sys/bus/pci/devices/0000:01:00.0/numa_node\n",
      "Your kernel may have been built without NUMA support.\n",
      "2023-04-18 20:43:27.324627: I tensorflow/compiler/xla/stream_executor/cuda/cuda_gpu_executor.cc:982] could not open file to read NUMA node: /sys/bus/pci/devices/0000:01:00.0/numa_node\n",
      "Your kernel may have been built without NUMA support.\n",
      "2023-04-18 20:43:28.979900: I tensorflow/compiler/xla/stream_executor/cuda/cuda_gpu_executor.cc:982] could not open file to read NUMA node: /sys/bus/pci/devices/0000:01:00.0/numa_node\n",
      "Your kernel may have been built without NUMA support.\n",
      "2023-04-18 20:43:28.980402: I tensorflow/compiler/xla/stream_executor/cuda/cuda_gpu_executor.cc:982] could not open file to read NUMA node: /sys/bus/pci/devices/0000:01:00.0/numa_node\n",
      "Your kernel may have been built without NUMA support.\n",
      "2023-04-18 20:43:28.980431: I tensorflow/core/common_runtime/gpu/gpu_device.cc:1722] Could not identify NUMA node of platform GPU id 0, defaulting to 0.  Your kernel may not have been built with NUMA support.\n",
      "2023-04-18 20:43:28.984531: I tensorflow/compiler/xla/stream_executor/cuda/cuda_gpu_executor.cc:982] could not open file to read NUMA node: /sys/bus/pci/devices/0000:01:00.0/numa_node\n",
      "Your kernel may have been built without NUMA support.\n",
      "2023-04-18 20:43:28.984614: I tensorflow/core/common_runtime/gpu/gpu_device.cc:1635] Created device /job:localhost/replica:0/task:0/device:GPU:0 with 6569 MB memory:  -> device: 0, name: NVIDIA GeForce GTX 1070, pci bus id: 0000:01:00.0, compute capability: 6.1\n"
     ]
    }
   ],
   "source": [
    "nr_of_targets = 5\n",
    "y_train = [np.asarray(y)[0:nr_of_targets].astype('float32').ravel() for y in y_train]\n",
    "y_test = [np.asarray(y)[0:nr_of_targets].astype('float32').ravel() for y in y_test]\n",
    "y_train = tf.convert_to_tensor(y_train)\n",
    "y_test = tf.convert_to_tensor(y_test)"
   ]
  },
  {
   "cell_type": "code",
   "execution_count": 5,
   "id": "2caca919",
   "metadata": {
    "ExecuteTime": {
     "start_time": "2023-04-18T22:43:29.871960Z",
     "end_time": "2023-04-18T22:43:31.899069Z"
    }
   },
   "outputs": [],
   "source": [
    "from sklearn.feature_extraction.text import TfidfVectorizer\n",
    "\n",
    "#Tf-idf\n",
    "tf_idf = TfidfVectorizer(max_features=6000, norm='l1', ngram_range=(1, 3), stop_words='english', analyzer='word')\n",
    "tfmodel = tf_idf.fit(X)"
   ]
  },
  {
   "cell_type": "code",
   "execution_count": 6,
   "id": "01e9e8ef",
   "metadata": {
    "ExecuteTime": {
     "start_time": "2023-04-18T22:43:31.912039Z",
     "end_time": "2023-04-18T22:43:55.078663Z"
    }
   },
   "outputs": [],
   "source": [
    "x_train = tfmodel.transform(x_train).toarray()\n",
    "x_test = tfmodel.transform(x_test).toarray()\n",
    "# max_text"
   ]
  },
  {
   "cell_type": "code",
   "execution_count": 8,
   "id": "53c6acb1",
   "metadata": {
    "ExecuteTime": {
     "start_time": "2023-04-18T22:43:54.995297Z",
     "end_time": "2023-04-18T22:43:55.115356Z"
    }
   },
   "outputs": [],
   "source": [
    "\n",
    "model = keras.Sequential()\n",
    "# dense layer\n",
    "model.add(keras.layers.Dense(128, activation='relu', input_shape=x_train.shape[1:]))\n",
    "# leaky relu\n",
    "model.add(keras.layers.LeakyReLU(alpha=0.1))\n",
    "# dropout\n",
    "model.add(keras.layers.Dropout(0.2))\n",
    "# dense layer\n",
    "model.add(keras.layers.Dense(128, activation='relu'))\n",
    "# leaky relu\n",
    "model.add(keras.layers.LeakyReLU(alpha=0.1))\n",
    "# dropout\n",
    "model.add(keras.layers.Dropout(0.2))\n",
    "# output layer\n",
    "model.add(keras.layers.Dense(nr_of_targets, activation='sigmoid'))\n",
    "\n",
    "from keras import backend as K\n",
    "\n",
    "def recall_m(y_true, y_pred):\n",
    "        true_positives = K.sum(K.round(K.clip(y_true * y_pred, 0, 1)))\n",
    "        possible_positives = K.sum(K.round(K.clip(y_true, 0, 1)))\n",
    "        recall = true_positives / (possible_positives + K.epsilon())\n",
    "        return recall\n",
    "\n",
    "def precision_m(y_true, y_pred):\n",
    "        true_positives = K.sum(K.round(K.clip(y_true * y_pred, 0, 1)))\n",
    "        predicted_positives = K.sum(K.round(K.clip(y_pred, 0, 1)))\n",
    "        precision = true_positives / (predicted_positives + K.epsilon())\n",
    "        return precision\n",
    "\n",
    "def f1_m(y_true, y_pred):\n",
    "    precision = precision_m(y_true, y_pred)\n",
    "    recall = recall_m(y_true, y_pred)\n",
    "    return 2*((precision*recall)/(precision+recall+K.epsilon()))\n",
    "\n",
    "model.compile(loss='binary_crossentropy', optimizer='adam', metrics=['acc', f1_m, precision_m, recall_m])"
   ]
  },
  {
   "cell_type": "code",
   "execution_count": 9,
   "id": "26115c21",
   "metadata": {
    "ExecuteTime": {
     "start_time": "2023-04-18T22:43:55.120614Z",
     "end_time": "2023-04-18T22:44:56.511183Z"
    }
   },
   "outputs": [
    {
     "name": "stdout",
     "output_type": "stream",
     "text": [
      "Epoch 1/200\n"
     ]
    },
    {
     "name": "stderr",
     "output_type": "stream",
     "text": [
      "2023-04-18 20:44:11.336900: I tensorflow/compiler/xla/service/service.cc:169] XLA service 0x1fa8b670 initialized for platform CUDA (this does not guarantee that XLA will be used). Devices:\n",
      "2023-04-18 20:44:11.336946: I tensorflow/compiler/xla/service/service.cc:177]   StreamExecutor device (0): NVIDIA GeForce GTX 1070, Compute Capability 6.1\n",
      "2023-04-18 20:44:11.379628: I tensorflow/compiler/mlir/tensorflow/utils/dump_mlir_util.cc:269] disabling MLIR crash reproducer, set env var `MLIR_CRASH_REPRODUCER_DIRECTORY` to enable.\n",
      "2023-04-18 20:44:11.798504: I tensorflow/compiler/xla/stream_executor/cuda/cuda_dnn.cc:424] Loaded cuDNN version 8600\n",
      "2023-04-18 20:44:12.017774: I ./tensorflow/compiler/jit/device_compiler.h:180] Compiled cluster using XLA!  This line is logged at most once for the lifetime of the process.\n"
     ]
    },
    {
     "name": "stdout",
     "output_type": "stream",
     "text": [
      "151/151 [==============================] - 9s 37ms/step - loss: 0.5261 - acc: 0.2980 - f1_m: 0.0039 - precision_m: 0.0241 - recall_m: 0.0051 - val_loss: 0.4535 - val_acc: 0.5519 - val_f1_m: 0.0113 - val_precision_m: 0.5741 - val_recall_m: 0.0057\n",
      "Epoch 2/200\n",
      "151/151 [==============================] - 3s 20ms/step - loss: 0.3655 - acc: 0.5890 - f1_m: 0.4181 - precision_m: 0.8249 - recall_m: 0.3110 - val_loss: 0.3177 - val_acc: 0.6246 - val_f1_m: 0.6017 - val_precision_m: 0.7977 - val_recall_m: 0.4836\n",
      "Epoch 3/200\n",
      "151/151 [==============================] - 3s 20ms/step - loss: 0.2868 - acc: 0.6512 - f1_m: 0.6785 - precision_m: 0.8117 - recall_m: 0.5844 - val_loss: 0.2985 - val_acc: 0.6565 - val_f1_m: 0.6679 - val_precision_m: 0.7947 - val_recall_m: 0.5768\n",
      "Epoch 4/200\n",
      "151/151 [==============================] - 3s 21ms/step - loss: 0.2584 - acc: 0.6799 - f1_m: 0.7227 - precision_m: 0.8276 - recall_m: 0.6426 - val_loss: 0.2937 - val_acc: 0.6618 - val_f1_m: 0.6862 - val_precision_m: 0.7808 - val_recall_m: 0.6128\n",
      "Epoch 5/200\n",
      "151/151 [==============================] - 3s 20ms/step - loss: 0.2378 - acc: 0.6980 - f1_m: 0.7518 - precision_m: 0.8369 - recall_m: 0.6837 - val_loss: 0.2918 - val_acc: 0.6615 - val_f1_m: 0.7000 - val_precision_m: 0.7828 - val_recall_m: 0.6340\n",
      "Epoch 6/200\n",
      "151/151 [==============================] - 3s 19ms/step - loss: 0.2223 - acc: 0.7086 - f1_m: 0.7722 - precision_m: 0.8471 - recall_m: 0.7106 - val_loss: 0.2896 - val_acc: 0.6594 - val_f1_m: 0.7086 - val_precision_m: 0.7807 - val_recall_m: 0.6496\n",
      "Epoch 7/200\n",
      "151/151 [==============================] - 3s 20ms/step - loss: 0.2089 - acc: 0.7164 - f1_m: 0.7874 - precision_m: 0.8512 - recall_m: 0.7335 - val_loss: 0.2950 - val_acc: 0.6600 - val_f1_m: 0.7022 - val_precision_m: 0.7862 - val_recall_m: 0.6353\n",
      "Epoch 8/200\n",
      "151/151 [==============================] - 3s 19ms/step - loss: 0.1961 - acc: 0.7286 - f1_m: 0.8029 - precision_m: 0.8596 - recall_m: 0.7541 - val_loss: 0.2961 - val_acc: 0.6573 - val_f1_m: 0.7074 - val_precision_m: 0.7675 - val_recall_m: 0.6567\n",
      "Epoch 9/200\n",
      "151/151 [==============================] - 3s 19ms/step - loss: 0.1848 - acc: 0.7366 - f1_m: 0.8152 - precision_m: 0.8664 - recall_m: 0.7706 - val_loss: 0.3029 - val_acc: 0.6597 - val_f1_m: 0.7114 - val_precision_m: 0.7560 - val_recall_m: 0.6726\n",
      "Epoch 10/200\n",
      "151/151 [==============================] - 3s 19ms/step - loss: 0.1738 - acc: 0.7440 - f1_m: 0.8306 - precision_m: 0.8747 - recall_m: 0.7917 - val_loss: 0.3073 - val_acc: 0.6623 - val_f1_m: 0.7093 - val_precision_m: 0.7440 - val_recall_m: 0.6785\n",
      "Epoch 11/200\n",
      "151/151 [==============================] - 3s 19ms/step - loss: 0.1624 - acc: 0.7472 - f1_m: 0.8420 - precision_m: 0.8804 - recall_m: 0.8076 - val_loss: 0.3155 - val_acc: 0.6621 - val_f1_m: 0.7133 - val_precision_m: 0.7500 - val_recall_m: 0.6807\n",
      "Epoch 12/200\n",
      "151/151 [==============================] - 3s 19ms/step - loss: 0.1527 - acc: 0.7542 - f1_m: 0.8528 - precision_m: 0.8883 - recall_m: 0.8207 - val_loss: 0.3268 - val_acc: 0.6562 - val_f1_m: 0.7039 - val_precision_m: 0.7428 - val_recall_m: 0.6699\n",
      "Epoch 13/200\n",
      "151/151 [==============================] - 3s 19ms/step - loss: 0.1438 - acc: 0.7622 - f1_m: 0.8635 - precision_m: 0.8954 - recall_m: 0.8348 - val_loss: 0.3337 - val_acc: 0.6641 - val_f1_m: 0.7073 - val_precision_m: 0.7439 - val_recall_m: 0.6750\n",
      "Epoch 14/200\n",
      "151/151 [==============================] - 3s 19ms/step - loss: 0.1343 - acc: 0.7694 - f1_m: 0.8738 - precision_m: 0.9005 - recall_m: 0.8494 - val_loss: 0.3449 - val_acc: 0.6544 - val_f1_m: 0.7089 - val_precision_m: 0.7565 - val_recall_m: 0.6680\n"
     ]
    }
   ],
   "source": [
    "from keras.callbacks import EarlyStopping, ModelCheckpoint\n",
    "\n",
    "\n",
    "\n",
    "es = keras.callbacks.EarlyStopping(monitor='val_f1_m', min_delta=0, patience=3, verbose=0, mode='max', baseline=None, restore_best_weights=False)\n",
    "mc = ModelCheckpoint('models/tf_idf_keras_best_model.h5', monitor='val_loss', mode='min', save_best_only=True)\n",
    "history = model.fit(x_train, y_train, batch_size=128, epochs=200, verbose=1, validation_split=0.15, callbacks=[es, mc])"
   ]
  },
  {
   "cell_type": "code",
   "execution_count": 10,
   "id": "0ddaa5b6",
   "metadata": {
    "ExecuteTime": {
     "start_time": "2023-04-18T22:44:56.514343Z",
     "end_time": "2023-04-18T22:44:57.470967Z"
    }
   },
   "outputs": [
    {
     "name": "stdout",
     "output_type": "stream",
     "text": [
      "79/79 [==============================] - 1s 10ms/step - loss: 0.3571 - acc: 0.6531 - f1_m: 0.7119 - precision_m: 0.7663 - recall_m: 0.6672\n",
      "Test Score: 0.35712507367134094\n",
      "Test Accuracy: 0.6531423926353455\n"
     ]
    }
   ],
   "source": [
    "# load best model\n",
    "from keras.models import load_model\n",
    "\n",
    "# model = load_model('best_model.h5')\n",
    "\n",
    "score = model.evaluate(x_test, y_test, verbose=1)\n",
    "print(\"Test Score:\", score[0])\n",
    "print(\"Test Accuracy:\", score[1])"
   ]
  },
  {
   "cell_type": "code",
   "execution_count": 11,
   "id": "168fda38",
   "metadata": {
    "ExecuteTime": {
     "start_time": "2023-04-18T22:44:57.474966Z",
     "end_time": "2023-04-18T22:44:57.957490Z"
    }
   },
   "outputs": [
    {
     "name": "stdout",
     "output_type": "stream",
     "text": [
      "79/79 [==============================] - 0s 3ms/step\n"
     ]
    }
   ],
   "source": [
    "predictions = model.predict(x_test)"
   ]
  },
  {
   "cell_type": "code",
   "execution_count": 12,
   "id": "f4826548",
   "metadata": {
    "ExecuteTime": {
     "start_time": "2023-04-18T22:44:57.962224Z",
     "end_time": "2023-04-18T22:44:57.965757Z"
    }
   },
   "outputs": [
    {
     "data": {
      "text/plain": "array([[4.1445801e-03, 8.9130591e-04, 6.8741897e-04, 1.4762735e-01,\n        8.1084841e-01],\n       [9.8277688e-01, 2.6632350e-02, 1.3621787e-03, 1.0046284e-03,\n        5.7999842e-02],\n       [3.9622203e-01, 5.4558478e-02, 1.8836770e-02, 3.2375113e-04,\n        6.3465361e-04],\n       ...,\n       [6.8057524e-03, 4.3139422e-05, 2.4143585e-03, 1.9681004e-01,\n        9.6215564e-01],\n       [2.2866720e-02, 1.8920662e-02, 1.5573264e-02, 1.7926268e-01,\n        6.5520388e-01],\n       [9.1709770e-02, 9.8865801e-01, 3.0883173e-05, 1.5386491e-04,\n        3.6124291e-04]], dtype=float32)"
     },
     "execution_count": 12,
     "metadata": {},
     "output_type": "execute_result"
    }
   ],
   "source": [
    "predictions"
   ]
  },
  {
   "cell_type": "code",
   "execution_count": 13,
   "id": "3541b6cf",
   "metadata": {
    "ExecuteTime": {
     "start_time": "2023-04-18T22:44:57.968394Z",
     "end_time": "2023-04-18T22:44:57.975766Z"
    }
   },
   "outputs": [
    {
     "data": {
      "text/plain": "<tf.Tensor: shape=(2514, 5), dtype=float32, numpy=\narray([[0., 0., 0., 1., 0.],\n       [1., 0., 0., 0., 0.],\n       [0., 0., 0., 0., 0.],\n       ...,\n       [0., 0., 0., 0., 1.],\n       [0., 0., 0., 0., 0.],\n       [0., 1., 0., 0., 0.]], dtype=float32)>"
     },
     "execution_count": 13,
     "metadata": {},
     "output_type": "execute_result"
    }
   ],
   "source": [
    "y_test"
   ]
  },
  {
   "cell_type": "code",
   "execution_count": 14,
   "outputs": [
    {
     "name": "stdout",
     "output_type": "stream",
     "text": [
      "Extracting cards...\n",
      "legendary creature god long life total less equal half starting life total cardname indestructible whenever another nontoken creature control dies put counter target creature goad\n",
      "1/1 [==============================] - 0s 21ms/step\n",
      "W: 81.81838393211365%\n",
      "U: 0.36973748356103897%\n",
      "B: 85.59908866882324%\n",
      "R: 6.194564700126648%\n",
      "G: 1.0202397592365742%\n",
      "WB"
     ]
    },
    {
     "name": "stderr",
     "output_type": "stream",
     "text": [
      "[nltk_data] Downloading package stopwords to /root/nltk_data...\n",
      "[nltk_data]   Package stopwords is already up-to-date!\n"
     ]
    }
   ],
   "source": [
    "from preprocess.scryfall_preprocessor import ScryfallPreprocessor\n",
    "\n",
    "sf_prepro = ScryfallPreprocessor(None)\n",
    "card = sf_prepro.get_card(\"Bhaal, Lord of Murder\")\n",
    "\n",
    "card = sf_prepro.extract_cards([card])[0]\n",
    "text = sf_prepro.stopword_preprocessing(sf_prepro.train_text(card))\n",
    "print(text)\n",
    "test_text = tfmodel.transform([text]).toarray()\n",
    "prediction = model.predict(test_text)\n",
    "colors = ['W', 'U', 'B', 'R', 'G']\n",
    "for i in range(len(colors)):\n",
    "    # print percentage chance of being that color\n",
    "    print(colors[i] + \": \" + str(prediction[0][i] * 100) + \"%\")\n",
    "for i in range(len(colors)):\n",
    "    # if over 50% chance of being that color\n",
    "    if prediction[0][i] > 0.10:\n",
    "        print(colors[i], end=\"\")"
   ],
   "metadata": {
    "collapsed": false,
    "ExecuteTime": {
     "start_time": "2023-04-18T22:44:57.981345Z",
     "end_time": "2023-04-18T22:44:58.156474Z"
    }
   }
  },
  {
   "cell_type": "code",
   "execution_count": 14,
   "outputs": [],
   "source": [],
   "metadata": {
    "collapsed": false,
    "ExecuteTime": {
     "start_time": "2023-04-18T22:44:58.134352Z",
     "end_time": "2023-04-18T22:44:58.156474Z"
    }
   }
  }
 ],
 "metadata": {
  "kernelspec": {
   "display_name": "Python 3 (ipykernel)",
   "language": "python",
   "name": "python3"
  },
  "language_info": {
   "codemirror_mode": {
    "name": "ipython",
    "version": 3
   },
   "file_extension": ".py",
   "mimetype": "text/x-python",
   "name": "python",
   "nbconvert_exporter": "python",
   "pygments_lexer": "ipython3",
   "version": "3.8.10"
  }
 },
 "nbformat": 4,
 "nbformat_minor": 5
}
