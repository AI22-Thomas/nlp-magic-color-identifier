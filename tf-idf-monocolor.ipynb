{
 "cells": [
  {
   "cell_type": "code",
   "execution_count": 38,
   "metadata": {
    "collapsed": true,
    "ExecuteTime": {
     "start_time": "2023-04-13T22:41:05.465378Z",
     "end_time": "2023-04-13T22:41:05.570377Z"
    }
   },
   "outputs": [],
   "source": [
    "import numpy as np\n",
    "import json\n",
    "\n",
    "np_cards = np.array(json.load(open('data/cards.json', 'r', encoding='utf-8')))"
   ]
  },
  {
   "cell_type": "code",
   "execution_count": 39,
   "outputs": [],
   "source": [
    "def text_preprocess(input_text):\n",
    "    # remove all stop words\n",
    "    input_text = ' '.join([word for word in input_text.split() if word not in stopwords])\n",
    "\n",
    "    input_text = ''.join([char for char in input_text if char.isalnum() or char == '/' or char == ' '])\n",
    "\n",
    "    return input_text"
   ],
   "metadata": {
    "collapsed": false,
    "ExecuteTime": {
     "start_time": "2023-04-13T22:41:05.572378Z",
     "end_time": "2023-04-13T22:41:05.584380Z"
    }
   }
  },
  {
   "cell_type": "code",
   "execution_count": 40,
   "outputs": [
    {
     "name": "stdout",
     "output_type": "stream",
     "text": [
      "('Enchantment  Aura Enchant creature When CARDNAME enters battlefield tap enchanted creature Enchanted creature doesnt untap controllers untap step', 'u')\n"
     ]
    }
   ],
   "source": [
    "import spacy\n",
    "\n",
    "en = spacy.load('en_core_web_sm')\n",
    "stopwords = en.Defaults.stop_words\n",
    "\n",
    "color_identity_letter = ['w', 'u', 'b', 'r', 'g', 'c']\n",
    "\n",
    "inputs = []\n",
    "# input text = type_line + rules_text (if not None) + power / toughness (if not None)\n",
    "for card in np_cards:\n",
    "    if sum(card['color_identity']) > 1:\n",
    "        continue\n",
    "\n",
    "    input_text = card['type_line']\n",
    "    if card['rules_text'] is not None:\n",
    "        input_text += '\\n' + card['rules_text']\n",
    "    if card['power'] is not None:\n",
    "        input_text += '\\n' + card['power'] + '/' + card['toughness']\n",
    "\n",
    "    input_text = text_preprocess(input_text)\n",
    "\n",
    "    # index 0 is w, 1 is u, 2 is b, 3 is r, 4 is g, 5 is c\n",
    "    # convert color identity to corresponding letter\n",
    "    target = ''\n",
    "    for i in range(len(card['color_identity'])):\n",
    "        if card['color_identity'][i] == 1:\n",
    "            target = color_identity_letter[i]\n",
    "            break\n",
    "    inputs.append((input_text, target))\n",
    "\n",
    "print(inputs[10])"
   ],
   "metadata": {
    "collapsed": false,
    "ExecuteTime": {
     "start_time": "2023-04-13T22:41:05.590379Z",
     "end_time": "2023-04-13T22:41:06.890380Z"
    }
   }
  },
  {
   "cell_type": "code",
   "execution_count": 41,
   "outputs": [],
   "source": [
    "# train test split\n",
    "from sklearn.model_selection import train_test_split\n",
    "\n",
    "train, test = train_test_split(inputs, test_size=0.2, random_state=42)"
   ],
   "metadata": {
    "collapsed": false,
    "ExecuteTime": {
     "start_time": "2023-04-13T22:41:06.894378Z",
     "end_time": "2023-04-13T22:41:06.905377Z"
    }
   }
  },
  {
   "cell_type": "code",
   "execution_count": 42,
   "outputs": [
    {
     "name": "stdout",
     "output_type": "stream",
     "text": [
      "0.7605131860299359\n"
     ]
    }
   ],
   "source": [
    "#tfidf\n",
    "from sklearn.feature_extraction.text import TfidfVectorizer\n",
    "\n",
    "tfidf = TfidfVectorizer()\n",
    "x_train = tfidf.fit_transform([x[0] for x in train])\n",
    "x_test = tfidf.transform([x[0] for x in test])\n",
    "\n",
    "y_train = [x[1] for x in train]\n",
    "y_test = [x[1] for x in test]\n",
    "\n",
    "# predict\n",
    "from sklearn.linear_model import LogisticRegression\n",
    "\n",
    "clf = LogisticRegression(max_iter=1000)\n",
    "clf.fit(x_train, y_train)\n",
    "print(clf.score(x_test, y_test))"
   ],
   "metadata": {
    "collapsed": false,
    "ExecuteTime": {
     "start_time": "2023-04-13T22:41:06.910377Z",
     "end_time": "2023-04-13T22:41:08.600377Z"
    }
   }
  },
  {
   "cell_type": "code",
   "execution_count": 43,
   "outputs": [
    {
     "name": "stdout",
     "output_type": "stream",
     "text": [
      "['w']\n"
     ]
    }
   ],
   "source": [
    "test_text = 'Instant\\nYou gain 3 life.'\n",
    "\n",
    "test_text = text_preprocess(test_text)\n",
    "\n",
    "test_text = tfidf.transform([test_text])\n",
    "print(clf.predict(test_text))"
   ],
   "metadata": {
    "collapsed": false,
    "ExecuteTime": {
     "start_time": "2023-04-13T22:41:08.603378Z",
     "end_time": "2023-04-13T22:41:08.616377Z"
    }
   }
  }
 ],
 "metadata": {
  "kernelspec": {
   "display_name": "Python 3",
   "language": "python",
   "name": "python3"
  },
  "language_info": {
   "codemirror_mode": {
    "name": "ipython",
    "version": 2
   },
   "file_extension": ".py",
   "mimetype": "text/x-python",
   "name": "python",
   "nbconvert_exporter": "python",
   "pygments_lexer": "ipython2",
   "version": "2.7.6"
  }
 },
 "nbformat": 4,
 "nbformat_minor": 0
}
