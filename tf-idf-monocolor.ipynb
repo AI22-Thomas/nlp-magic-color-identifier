{
 "cells": [
  {
   "cell_type": "code",
   "execution_count": 1,
   "metadata": {
    "collapsed": true,
    "ExecuteTime": {
     "start_time": "2023-04-18T22:48:10.208231Z",
     "end_time": "2023-04-18T22:48:10.466251Z"
    }
   },
   "outputs": [],
   "source": [
    "import numpy as np\n",
    "import json\n",
    "\n",
    "np_cards = np.array(json.load(open('data/cards.json', 'r', encoding='utf-8')))"
   ]
  },
  {
   "cell_type": "code",
   "execution_count": 2,
   "outputs": [],
   "source": [
    "def text_preprocess(input_text):\n",
    "    # remove all stop words\n",
    "    input_text = ' '.join([word for word in input_text.split() if word not in stopwords])\n",
    "\n",
    "    input_text = ''.join([char for char in input_text if char.isalnum() or char == '/' or char == ' '])\n",
    "\n",
    "    return input_text"
   ],
   "metadata": {
    "collapsed": false,
    "ExecuteTime": {
     "start_time": "2023-04-18T22:48:10.472081Z",
     "end_time": "2023-04-18T22:48:10.475115Z"
    }
   }
  },
  {
   "cell_type": "code",
   "execution_count": 3,
   "outputs": [
    {
     "name": "stderr",
     "output_type": "stream",
     "text": [
      "2023-04-18 20:48:12.055635: I tensorflow/core/platform/cpu_feature_guard.cc:182] This TensorFlow binary is optimized to use available CPU instructions in performance-critical operations.\n",
      "To enable the following instructions: AVX2 FMA, in other operations, rebuild TensorFlow with the appropriate compiler flags.\n",
      "2023-04-18 20:48:13.883421: I tensorflow/compiler/xla/stream_executor/cuda/cuda_gpu_executor.cc:982] could not open file to read NUMA node: /sys/bus/pci/devices/0000:01:00.0/numa_node\n",
      "Your kernel may have been built without NUMA support.\n",
      "2023-04-18 20:48:13.884449: I tensorflow/compiler/xla/stream_executor/cuda/cuda_gpu_executor.cc:982] could not open file to read NUMA node: /sys/bus/pci/devices/0000:01:00.0/numa_node\n",
      "Your kernel may have been built without NUMA support.\n",
      "2023-04-18 20:48:13.884656: I tensorflow/compiler/xla/stream_executor/cuda/cuda_gpu_executor.cc:982] could not open file to read NUMA node: /sys/bus/pci/devices/0000:01:00.0/numa_node\n",
      "Your kernel may have been built without NUMA support.\n"
     ]
    },
    {
     "name": "stdout",
     "output_type": "stream",
     "text": [
      "('Enchantment  Aura Enchant creature When CARDNAME enters battlefield tap enchanted creature Enchanted creature doesnt untap controllers untap step', 'u')\n"
     ]
    }
   ],
   "source": [
    "import spacy\n",
    "\n",
    "en = spacy.load('en_core_web_sm')\n",
    "stopwords = en.Defaults.stop_words\n",
    "\n",
    "color_identity_letter = ['w', 'u', 'b', 'r', 'g', 'c']\n",
    "\n",
    "inputs = []\n",
    "# input text = type_line + rules_text (if not None) + power / toughness (if not None)\n",
    "for card in np_cards:\n",
    "    if sum(card['color_identity']) > 1:\n",
    "        continue\n",
    "\n",
    "    input_text = card['type_line']\n",
    "    if card['rules_text'] is not None:\n",
    "        input_text += '\\n' + card['rules_text']\n",
    "    if card['power'] is not None:\n",
    "        input_text += '\\n' + card['power'] + '/' + card['toughness']\n",
    "\n",
    "    input_text = text_preprocess(input_text)\n",
    "\n",
    "    # index 0 is w, 1 is u, 2 is b, 3 is r, 4 is g, 5 is c\n",
    "    # convert color identity to corresponding letter\n",
    "    target = ''\n",
    "    for i in range(len(card['color_identity'])):\n",
    "        if card['color_identity'][i] == 1:\n",
    "            target = color_identity_letter[i]\n",
    "            break\n",
    "    inputs.append((input_text, target))\n",
    "\n",
    "print(inputs[10])"
   ],
   "metadata": {
    "collapsed": false,
    "ExecuteTime": {
     "start_time": "2023-04-18T22:48:10.482098Z",
     "end_time": "2023-04-18T22:48:15.545522Z"
    }
   }
  },
  {
   "cell_type": "code",
   "execution_count": 4,
   "outputs": [],
   "source": [
    "# train test split\n",
    "from sklearn.model_selection import train_test_split\n",
    "\n",
    "train, test = train_test_split(inputs, test_size=0.2, random_state=42)"
   ],
   "metadata": {
    "collapsed": false,
    "ExecuteTime": {
     "start_time": "2023-04-18T22:48:15.548524Z",
     "end_time": "2023-04-18T22:48:15.925099Z"
    }
   }
  },
  {
   "cell_type": "code",
   "execution_count": 5,
   "outputs": [
    {
     "name": "stdout",
     "output_type": "stream",
     "text": [
      "0.7258400926998841\n"
     ]
    }
   ],
   "source": [
    "#tfidf\n",
    "from sklearn.feature_extraction.text import TfidfVectorizer\n",
    "\n",
    "tfidf = TfidfVectorizer()\n",
    "x_train = tfidf.fit_transform([x[0] for x in train])\n",
    "x_test = tfidf.transform([x[0] for x in test])\n",
    "\n",
    "y_train = [x[1] for x in train]\n",
    "y_test = [x[1] for x in test]\n",
    "\n",
    "# predict\n",
    "from sklearn.linear_model import LogisticRegression\n",
    "\n",
    "clf = LogisticRegression(max_iter=1000)\n",
    "clf.fit(x_train, y_train)\n",
    "print(clf.score(x_test, y_test))"
   ],
   "metadata": {
    "collapsed": false,
    "ExecuteTime": {
     "start_time": "2023-04-18T22:48:15.927764Z",
     "end_time": "2023-04-18T22:48:23.417816Z"
    }
   }
  },
  {
   "cell_type": "code",
   "execution_count": 6,
   "outputs": [
    {
     "name": "stdout",
     "output_type": "stream",
     "text": [
      "['w']\n"
     ]
    }
   ],
   "source": [
    "test_text = 'Instant\\nYou gain 3 life.'\n",
    "\n",
    "test_text = text_preprocess(test_text)\n",
    "\n",
    "test_text = tfidf.transform([test_text])\n",
    "print(clf.predict(test_text))"
   ],
   "metadata": {
    "collapsed": false,
    "ExecuteTime": {
     "start_time": "2023-04-18T22:48:23.423058Z",
     "end_time": "2023-04-18T22:48:23.429510Z"
    }
   }
  }
 ],
 "metadata": {
  "kernelspec": {
   "display_name": "Python 3",
   "language": "python",
   "name": "python3"
  },
  "language_info": {
   "codemirror_mode": {
    "name": "ipython",
    "version": 2
   },
   "file_extension": ".py",
   "mimetype": "text/x-python",
   "name": "python",
   "nbconvert_exporter": "python",
   "pygments_lexer": "ipython2",
   "version": "2.7.6"
  }
 },
 "nbformat": 4,
 "nbformat_minor": 0
}
