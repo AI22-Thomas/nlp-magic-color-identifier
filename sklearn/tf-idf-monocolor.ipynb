{
 "cells": [
  {
   "cell_type": "code",
   "execution_count": 3,
   "metadata": {
    "collapsed": true,
    "ExecuteTime": {
     "start_time": "2023-04-19T13:23:44.454501Z",
     "end_time": "2023-04-19T13:23:44.636038Z"
    }
   },
   "outputs": [],
   "source": [
    "import numpy as np\n",
    "import json\n",
    "\n",
    "# Load card data\n",
    "np_cards = np.array(json.load(open('../data/cards.json', 'r', encoding='utf-8')))"
   ]
  },
  {
   "cell_type": "code",
   "execution_count": 4,
   "outputs": [],
   "source": [
    "from preprocess.scryfall_preprocessor import ScryfallPreprocessor\n",
    "\n",
    "# Initialize preprocessor\n",
    "sf_preprocessor = ScryfallPreprocessor(None)"
   ],
   "metadata": {
    "collapsed": false,
    "ExecuteTime": {
     "start_time": "2023-04-19T13:23:44.632971Z",
     "end_time": "2023-04-19T13:23:44.649126Z"
    }
   }
  },
  {
   "cell_type": "code",
   "execution_count": 5,
   "outputs": [
    {
     "name": "stdout",
     "output_type": "stream",
     "text": [
      "('enchantment aura enchant creature cardname enters battlefield tap enchanted creature enchanted creature untap controller untap step', 'u')\n"
     ]
    }
   ],
   "source": [
    "color_identity_letter = ['w', 'u', 'b', 'r', 'g', 'c']\n",
    "\n",
    "# Create inputs and targets\n",
    "inputs = []\n",
    "# input text = type_line + rules_text (if not None) + power / toughness (if not None)\n",
    "for card in np_cards:\n",
    "    if sum(card['color_identity']) > 1:\n",
    "        continue\n",
    "\n",
    "    input_text = sf_preprocessor.train_text(card)\n",
    "    input_text = sf_preprocessor.stopword_preprocessing(input_text)\n",
    "\n",
    "    # index 0 is w, 1 is u, 2 is b, 3 is r, 4 is g, 5 is c\n",
    "    # convert color identity to corresponding letter\n",
    "    target = ''\n",
    "    for i in range(len(card['color_identity'])):\n",
    "        if card['color_identity'][i] == 1:\n",
    "            target = color_identity_letter[i]\n",
    "            break\n",
    "    inputs.append((input_text, target))\n",
    "\n",
    "# Example\n",
    "print(inputs[10])"
   ],
   "metadata": {
    "collapsed": false,
    "ExecuteTime": {
     "start_time": "2023-04-19T13:23:44.648127Z",
     "end_time": "2023-04-19T13:23:51.440213Z"
    }
   }
  },
  {
   "cell_type": "code",
   "execution_count": 6,
   "outputs": [],
   "source": [
    "# train test split\n",
    "from sklearn.model_selection import train_test_split\n",
    "\n",
    "train, test = train_test_split(inputs, test_size=0.2, random_state=42)"
   ],
   "metadata": {
    "collapsed": false,
    "ExecuteTime": {
     "start_time": "2023-04-19T13:23:51.443214Z",
     "end_time": "2023-04-19T13:23:51.465985Z"
    }
   }
  },
  {
   "cell_type": "code",
   "execution_count": 7,
   "outputs": [],
   "source": [
    "# TF-IDF Vectorizing\n",
    "from sklearn.feature_extraction.text import TfidfVectorizer\n",
    "\n",
    "tfidf = TfidfVectorizer()\n",
    "x_train = tfidf.fit_transform([x[0] for x in train])\n",
    "x_test = tfidf.transform([x[0] for x in test])\n",
    "\n",
    "y_train = [x[1] for x in train]\n",
    "y_test = [x[1] for x in test]\n",
    "\n"
   ],
   "metadata": {
    "collapsed": false,
    "ExecuteTime": {
     "start_time": "2023-04-19T13:23:51.458904Z",
     "end_time": "2023-04-19T13:23:51.774296Z"
    }
   }
  },
  {
   "cell_type": "code",
   "execution_count": 8,
   "outputs": [
    {
     "name": "stdout",
     "output_type": "stream",
     "text": [
      "Logistic Regression Accuracy:  0.7239860950173812\n",
      "Logistic Regression F1 Score:  0.7238926381936406\n",
      "Logistic Regression Precision:  0.7248200179975769\n",
      "Logistic Regression Recall:  0.7239860950173812\n"
     ]
    }
   ],
   "source": [
    "from sklearn.metrics import f1_score, recall_score\n",
    "from sklearn.metrics import precision_score\n",
    "# Logistic Regression\n",
    "from sklearn.linear_model import LogisticRegression\n",
    "\n",
    "clf = LogisticRegression(max_iter=1000)\n",
    "clf.fit(x_train, y_train)\n",
    "print(\"Logistic Regression Accuracy: \", clf.score(x_test, y_test))\n",
    "print(\"Logistic Regression F1 Score: \", f1_score(y_test, clf.predict(x_test), average='weighted'))\n",
    "print(\"Logistic Regression Precision: \", precision_score(y_test, clf.predict(x_test), average='weighted'))\n",
    "print(\"Logistic Regression Recall: \", recall_score(y_test, clf.predict(x_test), average='weighted'))"
   ],
   "metadata": {
    "collapsed": false,
    "ExecuteTime": {
     "start_time": "2023-04-19T13:23:51.770295Z",
     "end_time": "2023-04-19T13:23:53.588108Z"
    }
   }
  },
  {
   "cell_type": "code",
   "execution_count": 24,
   "outputs": [
    {
     "name": "stdout",
     "output_type": "stream",
     "text": [
      "Text:  creature human cleric tap tap target non human creature\n",
      "Actual:  w\n",
      "Prediction:  w\n"
     ]
    }
   ],
   "source": [
    "# Example Prediction\n",
    "\n",
    "# get random card of test set\n",
    "import random\n",
    "\n",
    "random_card = random.choice(test)\n",
    "\n",
    "# get prediction\n",
    "prediction = clf.predict(tfidf.transform([random_card[0]]))[0]\n",
    "\n",
    "print(\"Text: \", random_card[0])\n",
    "print(\"Actual: \", random_card[1])\n",
    "print(\"Prediction: \", prediction)"
   ],
   "metadata": {
    "collapsed": false,
    "ExecuteTime": {
     "start_time": "2023-04-19T13:25:34.031492Z",
     "end_time": "2023-04-19T13:25:34.047634Z"
    }
   }
  }
 ],
 "metadata": {
  "kernelspec": {
   "display_name": "Python 3",
   "language": "python",
   "name": "python3"
  },
  "language_info": {
   "codemirror_mode": {
    "name": "ipython",
    "version": 2
   },
   "file_extension": ".py",
   "mimetype": "text/x-python",
   "name": "python",
   "nbconvert_exporter": "python",
   "pygments_lexer": "ipython2",
   "version": "2.7.6"
  }
 },
 "nbformat": 4,
 "nbformat_minor": 0
}
